{
 "cells": [
  {
   "attachments": {},
   "cell_type": "markdown",
   "metadata": {
    "id": "d22uW_pcdDeE"
   },
   "source": [
    "## Installing necessary libraries"
   ]
  },
  {
   "cell_type": "code",
   "execution_count": 132,
   "metadata": {
    "colab": {
     "base_uri": "https://localhost:8080/"
    },
    "id": "v8ZuX4k9bzSk",
    "outputId": "8e479c7c-3db8-4dd7-dea7-2a60f64f9061"
   },
   "outputs": [
    {
     "name": "stdout",
     "output_type": "stream",
     "text": [
      "Requirement already satisfied: docx2txt in /home/edward/.local/lib/python3.8/site-packages (0.8)\n"
     ]
    }
   ],
   "source": [
    "!pip install docx2txt"
   ]
  },
  {
   "cell_type": "code",
   "execution_count": 133,
   "metadata": {},
   "outputs": [
    {
     "name": "stdout",
     "output_type": "stream",
     "text": [
      "Requirement already satisfied: strsimpy in /home/edward/.local/lib/python3.8/site-packages (0.2.1)\n"
     ]
    }
   ],
   "source": [
    "!pip install strsimpy"
   ]
  },
  {
   "cell_type": "code",
   "execution_count": 134,
   "metadata": {
    "colab": {
     "base_uri": "https://localhost:8080/"
    },
    "id": "OOrdvc8wbzJ8",
    "outputId": "55e6fe0b-acb1-485c-9273-8c1a12be240e"
   },
   "outputs": [
    {
     "name": "stdout",
     "output_type": "stream",
     "text": [
      "Requirement already satisfied: python-docx in /home/edward/.local/lib/python3.8/site-packages (0.8.11)\n",
      "Requirement already satisfied: lxml>=2.3.2 in /home/edward/.local/lib/python3.8/site-packages (from python-docx) (4.6.3)\n"
     ]
    }
   ],
   "source": [
    "!pip install python-docx"
   ]
  },
  {
   "cell_type": "code",
   "execution_count": 135,
   "metadata": {},
   "outputs": [
    {
     "name": "stdout",
     "output_type": "stream",
     "text": [
      "docx2csv exists.\n"
     ]
    }
   ],
   "source": [
    "%%bash\n",
    "\n",
    "if ls docx2csv >/dev/null 2>&1; then\n",
    "    echo \"docx2csv exists.\"\n",
    "else\n",
    "    echo \"Folder does not exist. Cloning docx2csv.\"\n",
    "    git clone https://github.com/ivbeg/docx2csv.git\n",
    "fi"
   ]
  },
  {
   "cell_type": "code",
   "execution_count": 136,
   "metadata": {
    "scrolled": true
   },
   "outputs": [
    {
     "name": "stdout",
     "output_type": "stream",
     "text": [
      "Linux Password: lori12345\n",
      "running install\n",
      "running bdist_egg\n",
      "running egg_info\n",
      "writing docx2csv.egg-info/PKG-INFO\n",
      "writing dependency_links to docx2csv.egg-info/dependency_links.txt\n",
      "writing entry points to docx2csv.egg-info/entry_points.txt\n",
      "writing requirements to docx2csv.egg-info/requires.txt\n",
      "writing top-level names to docx2csv.egg-info/top_level.txt\n",
      "reading manifest file 'docx2csv.egg-info/SOURCES.txt'\n",
      "writing manifest file 'docx2csv.egg-info/SOURCES.txt'\n",
      "installing library code to build/bdist.linux-x86_64/egg\n",
      "running install_lib\n",
      "running build_py\n",
      "creating build/bdist.linux-x86_64/egg\n",
      "creating build/bdist.linux-x86_64/egg/docx2csv\n",
      "copying build/lib/docx2csv/converter.py -> build/bdist.linux-x86_64/egg/docx2csv\n",
      "copying build/lib/docx2csv/core.py -> build/bdist.linux-x86_64/egg/docx2csv\n",
      "copying build/lib/docx2csv/__init__.py -> build/bdist.linux-x86_64/egg/docx2csv\n",
      "copying build/lib/docx2csv/__main__.py -> build/bdist.linux-x86_64/egg/docx2csv\n",
      "byte-compiling build/bdist.linux-x86_64/egg/docx2csv/converter.py to converter.cpython-38.pyc\n",
      "byte-compiling build/bdist.linux-x86_64/egg/docx2csv/core.py to core.cpython-38.pyc\n",
      "byte-compiling build/bdist.linux-x86_64/egg/docx2csv/__init__.py to __init__.cpython-38.pyc\n",
      "byte-compiling build/bdist.linux-x86_64/egg/docx2csv/__main__.py to __main__.cpython-38.pyc\n",
      "creating build/bdist.linux-x86_64/egg/EGG-INFO\n",
      "copying docx2csv.egg-info/PKG-INFO -> build/bdist.linux-x86_64/egg/EGG-INFO\n",
      "copying docx2csv.egg-info/SOURCES.txt -> build/bdist.linux-x86_64/egg/EGG-INFO\n",
      "copying docx2csv.egg-info/dependency_links.txt -> build/bdist.linux-x86_64/egg/EGG-INFO\n",
      "copying docx2csv.egg-info/entry_points.txt -> build/bdist.linux-x86_64/egg/EGG-INFO\n",
      "copying docx2csv.egg-info/not-zip-safe -> build/bdist.linux-x86_64/egg/EGG-INFO\n",
      "copying docx2csv.egg-info/requires.txt -> build/bdist.linux-x86_64/egg/EGG-INFO\n",
      "copying docx2csv.egg-info/top_level.txt -> build/bdist.linux-x86_64/egg/EGG-INFO\n",
      "creating 'dist/docx2csv-0.1.2-py3.8.egg' and adding 'build/bdist.linux-x86_64/egg' to it\n",
      "removing 'build/bdist.linux-x86_64/egg' (and everything under it)\n",
      "Processing docx2csv-0.1.2-py3.8.egg\n",
      "removing '/usr/local/lib/python3.8/dist-packages/docx2csv-0.1.2-py3.8.egg' (and everything under it)\n",
      "creating /usr/local/lib/python3.8/dist-packages/docx2csv-0.1.2-py3.8.egg\n",
      "Extracting docx2csv-0.1.2-py3.8.egg to /usr/local/lib/python3.8/dist-packages\n",
      "docx2csv 0.1.2 is already the active version in easy-install.pth\n",
      "Installing docx2csv script to /usr/local/bin\n",
      "\n",
      "Installed /usr/local/lib/python3.8/dist-packages/docx2csv-0.1.2-py3.8.egg\n",
      "Processing dependencies for docx2csv==0.1.2\n",
      "Searching for xlwt==1.3.0\n",
      "Best match: xlwt 1.3.0\n",
      "Processing xlwt-1.3.0-py3.8.egg\n",
      "xlwt 1.3.0 is already the active version in easy-install.pth\n",
      "\n",
      "Using /usr/local/lib/python3.8/dist-packages/xlwt-1.3.0-py3.8.egg\n",
      "Searching for openpyxl==3.2.0b1\n",
      "Best match: openpyxl 3.2.0b1\n",
      "Processing openpyxl-3.2.0b1-py3.8.egg\n",
      "openpyxl 3.2.0b1 is already the active version in easy-install.pth\n",
      "\n",
      "Using /usr/local/lib/python3.8/dist-packages/openpyxl-3.2.0b1-py3.8.egg\n",
      "Searching for docx==0.2.4\n",
      "Best match: docx 0.2.4\n",
      "Processing docx-0.2.4-py3.8.egg\n",
      "docx 0.2.4 is already the active version in easy-install.pth\n",
      "\n",
      "Using /usr/local/lib/python3.8/dist-packages/docx-0.2.4-py3.8.egg\n",
      "Searching for Click==7.0\n",
      "Best match: Click 7.0\n",
      "Adding Click 7.0 to easy-install.pth file\n",
      "\n",
      "Using /usr/lib/python3/dist-packages\n",
      "Searching for et-xmlfile==1.1.0\n",
      "Best match: et-xmlfile 1.1.0\n",
      "Processing et_xmlfile-1.1.0-py3.8.egg\n",
      "et-xmlfile 1.1.0 is already the active version in easy-install.pth\n",
      "\n",
      "Using /usr/local/lib/python3.8/dist-packages/et_xmlfile-1.1.0-py3.8.egg\n",
      "Searching for lxml==4.9.2\n",
      "Best match: lxml 4.9.2\n",
      "Processing lxml-4.9.2-py3.8-linux-x86_64.egg\n",
      "lxml 4.9.2 is already the active version in easy-install.pth\n",
      "\n",
      "Using /usr/local/lib/python3.8/dist-packages/lxml-4.9.2-py3.8-linux-x86_64.egg\n",
      "Searching for Pillow==9.5.0\n",
      "Best match: Pillow 9.5.0\n",
      "Processing Pillow-9.5.0-py3.8-linux-x86_64.egg\n",
      "Pillow 9.5.0 is already the active version in easy-install.pth\n",
      "\n",
      "Using /usr/local/lib/python3.8/dist-packages/Pillow-9.5.0-py3.8-linux-x86_64.egg\n",
      "Finished processing dependencies for docx2csv==0.1.2\n"
     ]
    }
   ],
   "source": [
    "%%bash\n",
    "\n",
    "source .env\n",
    "echo \"Linux Password: $PASSWORD\"\n",
    "cd docx2csv && echo \"$PASSWORD\" | sudo -S python3 setup.py install"
   ]
  },
  {
   "cell_type": "code",
   "execution_count": 137,
   "metadata": {},
   "outputs": [],
   "source": [
    "# ----- TEST DATA INPUT -----\n",
    "\n",
    "# Computer Science Test Data.\n",
    "# CURRENT_MAPPING=\"Lists_ComputerScience.docx\"\n",
    "# ORIGINAL_MAPPING=\"Original-Mapping-ComputerScience.csv\"\n",
    "\n",
    "# InformationSecurity Test Data.\n",
    "CURRENT_MAPPING=\"Lists_InformationSecurity.docx\"\n",
    "ORIGINAL_MAPPING=\"Original-Mapping-InfoSecurity.csv\""
   ]
  },
  {
   "cell_type": "code",
   "execution_count": 138,
   "metadata": {
    "id": "A_eRLnUVbzGk"
   },
   "outputs": [],
   "source": [
    "# extract tables from word document\n",
    "from docx2csv import extract_tables, extract\n",
    "tables = extract_tables(CURRENT_MAPPING)"
   ]
  },
  {
   "cell_type": "code",
   "execution_count": 139,
   "metadata": {
    "id": "3ypxqU-pbzC7"
   },
   "outputs": [],
   "source": [
    "from docx import Document\n",
    "document = Document(CURRENT_MAPPING)"
   ]
  },
  {
   "cell_type": "code",
   "execution_count": 140,
   "metadata": {
    "id": "C3UwEI5hby9k"
   },
   "outputs": [],
   "source": [
    "def read_docx_table(document,table_num):\n",
    "  table = document.tables[table_num-1]\n",
    "  data = [[cell.text for cell in row.cells] for row in table.rows]\n",
    "  df = pd.DataFrame(data)\n",
    "  return df"
   ]
  },
  {
   "cell_type": "code",
   "execution_count": 141,
   "metadata": {
    "id": "bpNT07kAXk01"
   },
   "outputs": [],
   "source": [
    "# importing necessary libraries\n",
    "import pandas as pd\n",
    "from sklearn.feature_extraction.text import TfidfVectorizer\n",
    "from sklearn.feature_extraction.text import CountVectorizer\n",
    "from sklearn.metrics.pairwise import cosine_similarity\n",
    "import numpy as np"
   ]
  },
  {
   "attachments": {},
   "cell_type": "markdown",
   "metadata": {
    "id": "VugavvsYYLPG"
   },
   "source": [
    "## PLO TABLE"
   ]
  },
  {
   "cell_type": "code",
   "execution_count": 142,
   "metadata": {
    "colab": {
     "base_uri": "https://localhost:8080/",
     "height": 206
    },
    "id": "7ZpBU1LeXqiG",
    "outputId": "f021d7e4-aebe-430c-9b07-ad265896aff9"
   },
   "outputs": [
    {
     "data": {
      "text/html": [
       "<div>\n",
       "<style scoped>\n",
       "    .dataframe tbody tr th:only-of-type {\n",
       "        vertical-align: middle;\n",
       "    }\n",
       "\n",
       "    .dataframe tbody tr th {\n",
       "        vertical-align: top;\n",
       "    }\n",
       "\n",
       "    .dataframe thead th {\n",
       "        text-align: right;\n",
       "    }\n",
       "</style>\n",
       "<table border=\"1\" class=\"dataframe\">\n",
       "  <thead>\n",
       "    <tr style=\"text-align: right;\">\n",
       "      <th></th>\n",
       "      <th>0</th>\n",
       "      <th>1</th>\n",
       "    </tr>\n",
       "  </thead>\n",
       "  <tbody>\n",
       "    <tr>\n",
       "      <th>0</th>\n",
       "      <td>P1</td>\n",
       "      <td>Analyze a complex computing problem and to app...</td>\n",
       "    </tr>\n",
       "    <tr>\n",
       "      <th>1</th>\n",
       "      <td>P2</td>\n",
       "      <td>Design, implement, and evaluate a computing-ba...</td>\n",
       "    </tr>\n",
       "    <tr>\n",
       "      <th>2</th>\n",
       "      <td>P3</td>\n",
       "      <td>Communicate effectively in a variety of profes...</td>\n",
       "    </tr>\n",
       "    <tr>\n",
       "      <th>3</th>\n",
       "      <td>P4</td>\n",
       "      <td>Recognize professional responsibilities and ma...</td>\n",
       "    </tr>\n",
       "    <tr>\n",
       "      <th>4</th>\n",
       "      <td>P5</td>\n",
       "      <td>Function effectively as a member or leader of ...</td>\n",
       "    </tr>\n",
       "  </tbody>\n",
       "</table>\n",
       "</div>"
      ],
      "text/plain": [
       "    0                                                  1\n",
       "0  P1  Analyze a complex computing problem and to app...\n",
       "1  P2  Design, implement, and evaluate a computing-ba...\n",
       "2  P3  Communicate effectively in a variety of profes...\n",
       "3  P4  Recognize professional responsibilities and ma...\n",
       "4  P5  Function effectively as a member or leader of ..."
      ]
     },
     "execution_count": 142,
     "metadata": {},
     "output_type": "execute_result"
    }
   ],
   "source": [
    "# Creating a dataframe for PLOs and it will accept 'n' number of PLOs\n",
    "table_num=1\n",
    "df = read_docx_table(document,table_num)\n",
    "df.head()"
   ]
  },
  {
   "cell_type": "code",
   "execution_count": 143,
   "metadata": {
    "id": "U28-N6sjbQkc"
   },
   "outputs": [],
   "source": [
    "q1 = df.copy()"
   ]
  },
  {
   "cell_type": "code",
   "execution_count": 144,
   "metadata": {
    "id": "BzoHBy9RXqlF"
   },
   "outputs": [],
   "source": [
    "# assigning count vectorizer\n",
    "count_vectorizer = CountVectorizer(stop_words='english', min_df=0.005)"
   ]
  },
  {
   "cell_type": "code",
   "execution_count": 145,
   "metadata": {
    "id": "xUftpLLZXqoV"
   },
   "outputs": [],
   "source": [
    "# Data preprocessing for PLO dataframe\n",
    "q1[1] = q1[1].str.lower()\n",
    "corpus = q1[1].tolist()\n",
    "corpii = count_vectorizer.fit_transform(corpus)"
   ]
  },
  {
   "cell_type": "code",
   "execution_count": 146,
   "metadata": {
    "colab": {
     "base_uri": "https://localhost:8080/"
    },
    "id": "n20hDeKkQX9t",
    "outputId": "eac9548d-3148-4260-8b80-17f19079e3bd"
   },
   "outputs": [
    {
     "data": {
      "text/plain": [
       "<6x49 sparse matrix of type '<class 'numpy.int64'>'\n",
       "\twith 59 stored elements in Compressed Sparse Row format>"
      ]
     },
     "execution_count": 146,
     "metadata": {},
     "output_type": "execute_result"
    }
   ],
   "source": [
    "corpii"
   ]
  },
  {
   "cell_type": "code",
   "execution_count": 147,
   "metadata": {
    "colab": {
     "base_uri": "https://localhost:8080/"
    },
    "id": "mySN4lHeXqrV",
    "outputId": "7eb5f419-6cd3-467b-d40c-f7930edd9b61"
   },
   "outputs": [
    {
     "data": {
      "text/plain": [
       "array(['activities', 'analyze', 'apply', 'appropriate', 'based',\n",
       "       'communicate', 'complex', 'computing', 'context', 'contexts',\n",
       "       'design', 'discipline', 'disciplines', 'effectively', 'engaged',\n",
       "       'ethical', 'evaluate', 'function', 'given', 'identify',\n",
       "       'implement', 'informed', 'judgments', 'leader', 'legal',\n",
       "       'maintain', 'make', 'meet', 'member', 'operations', 'practice',\n",
       "       'practices', 'presence', 'principles', 'problem', 'professional',\n",
       "       'program', 'recognize', 'relevant', 'requirements',\n",
       "       'responsibilities', 'risks', 'security', 'set', 'solution',\n",
       "       'solutions', 'team', 'threats', 'variety'], dtype=object)"
      ]
     },
     "execution_count": 147,
     "metadata": {},
     "output_type": "execute_result"
    }
   ],
   "source": [
    "# extracting features names from PLO table\n",
    "feature_names = count_vectorizer.get_feature_names_out()\n",
    "feature_names"
   ]
  },
  {
   "cell_type": "code",
   "execution_count": 148,
   "metadata": {
    "colab": {
     "base_uri": "https://localhost:8080/"
    },
    "id": "oRxKuvJkQ0Mk",
    "outputId": "80f0fee1-eebe-4487-dfd9-946ea7c8b797"
   },
   "outputs": [
    {
     "data": {
      "text/plain": [
       "49"
      ]
     },
     "execution_count": 148,
     "metadata": {},
     "output_type": "execute_result"
    }
   ],
   "source": [
    "len(feature_names)"
   ]
  },
  {
   "cell_type": "code",
   "execution_count": 149,
   "metadata": {
    "id": "0K-RSe6xXqul"
   },
   "outputs": [],
   "source": [
    "# Converting features to vector form and create a dataframe\n",
    "X1 = pd.DataFrame(corpii.toarray(), columns=feature_names)"
   ]
  },
  {
   "attachments": {},
   "cell_type": "markdown",
   "metadata": {
    "id": "i8mtCAEZYPIe"
   },
   "source": [
    "## CLO TABLE"
   ]
  },
  {
   "cell_type": "code",
   "execution_count": 150,
   "metadata": {
    "id": "clX4_RyxXqxF"
   },
   "outputs": [],
   "source": [
    "# Creating a dataframe for CLOs and it will accept 'n' number of CLOs\n",
    "table_num=2\n",
    "df1 = read_docx_table(document,table_num)\n",
    "p1 = df1.copy()"
   ]
  },
  {
   "cell_type": "code",
   "execution_count": 151,
   "metadata": {
    "id": "gWp0jpPVXq0F"
   },
   "outputs": [],
   "source": [
    "# Data preprocessing for CLO dataframe\n",
    "p1[1] = p1[1].str.lower()\n",
    "corpus11 = p1[1].tolist()\n",
    "corpii11 = count_vectorizer.fit_transform(corpus11)"
   ]
  },
  {
   "cell_type": "code",
   "execution_count": 152,
   "metadata": {
    "colab": {
     "base_uri": "https://localhost:8080/"
    },
    "id": "1Zg_ZIN7Xq3e",
    "outputId": "6e4c8724-732a-4399-c269-259f23c56e15"
   },
   "outputs": [],
   "source": [
    "# extracting features names from CLO table\n",
    "feature_names1 = count_vectorizer.get_feature_names_out()"
   ]
  },
  {
   "cell_type": "code",
   "execution_count": 153,
   "metadata": {
    "colab": {
     "base_uri": "https://localhost:8080/"
    },
    "id": "tCXVAkg3mSgL",
    "outputId": "ad41e6d3-8677-4673-9531-71f6d9e78ee0"
   },
   "outputs": [
    {
     "data": {
      "text/plain": [
       "433"
      ]
     },
     "execution_count": 153,
     "metadata": {},
     "output_type": "execute_result"
    }
   ],
   "source": [
    "len(feature_names1)"
   ]
  },
  {
   "cell_type": "code",
   "execution_count": 154,
   "metadata": {
    "id": "PPI9g37tXq6l"
   },
   "outputs": [],
   "source": [
    "# Converting features to vector form and create a dataframe\n",
    "X2 = pd.DataFrame(corpii11.toarray(), columns=feature_names1)"
   ]
  },
  {
   "cell_type": "code",
   "execution_count": 155,
   "metadata": {
    "colab": {
     "base_uri": "https://localhost:8080/",
     "height": 299
    },
    "id": "U5C18Iysmlbb",
    "outputId": "f18da737-d812-4a7d-8763-fe816dec3e3c"
   },
   "outputs": [
    {
     "data": {
      "text/html": [
       "<div>\n",
       "<style scoped>\n",
       "    .dataframe tbody tr th:only-of-type {\n",
       "        vertical-align: middle;\n",
       "    }\n",
       "\n",
       "    .dataframe tbody tr th {\n",
       "        vertical-align: top;\n",
       "    }\n",
       "\n",
       "    .dataframe thead th {\n",
       "        text-align: right;\n",
       "    }\n",
       "</style>\n",
       "<table border=\"1\" class=\"dataframe\">\n",
       "  <thead>\n",
       "    <tr style=\"text-align: right;\">\n",
       "      <th></th>\n",
       "      <th>access</th>\n",
       "      <th>accuracy</th>\n",
       "      <th>achieve</th>\n",
       "      <th>active</th>\n",
       "      <th>activities</th>\n",
       "      <th>address</th>\n",
       "      <th>addressing</th>\n",
       "      <th>affecting</th>\n",
       "      <th>algebra</th>\n",
       "      <th>algorithm</th>\n",
       "      <th>...</th>\n",
       "      <th>viruses</th>\n",
       "      <th>vpn</th>\n",
       "      <th>vulnerabilities</th>\n",
       "      <th>vulnerability</th>\n",
       "      <th>web</th>\n",
       "      <th>workers</th>\n",
       "      <th>workplace</th>\n",
       "      <th>write</th>\n",
       "      <th>writing</th>\n",
       "      <th>written</th>\n",
       "    </tr>\n",
       "  </thead>\n",
       "  <tbody>\n",
       "    <tr>\n",
       "      <th>0</th>\n",
       "      <td>0</td>\n",
       "      <td>0</td>\n",
       "      <td>0</td>\n",
       "      <td>0</td>\n",
       "      <td>0</td>\n",
       "      <td>0</td>\n",
       "      <td>0</td>\n",
       "      <td>0</td>\n",
       "      <td>0</td>\n",
       "      <td>0</td>\n",
       "      <td>...</td>\n",
       "      <td>0</td>\n",
       "      <td>0</td>\n",
       "      <td>0</td>\n",
       "      <td>0</td>\n",
       "      <td>0</td>\n",
       "      <td>0</td>\n",
       "      <td>0</td>\n",
       "      <td>0</td>\n",
       "      <td>0</td>\n",
       "      <td>0</td>\n",
       "    </tr>\n",
       "    <tr>\n",
       "      <th>1</th>\n",
       "      <td>0</td>\n",
       "      <td>0</td>\n",
       "      <td>0</td>\n",
       "      <td>0</td>\n",
       "      <td>0</td>\n",
       "      <td>0</td>\n",
       "      <td>0</td>\n",
       "      <td>0</td>\n",
       "      <td>0</td>\n",
       "      <td>0</td>\n",
       "      <td>...</td>\n",
       "      <td>0</td>\n",
       "      <td>0</td>\n",
       "      <td>0</td>\n",
       "      <td>0</td>\n",
       "      <td>0</td>\n",
       "      <td>0</td>\n",
       "      <td>0</td>\n",
       "      <td>0</td>\n",
       "      <td>0</td>\n",
       "      <td>0</td>\n",
       "    </tr>\n",
       "    <tr>\n",
       "      <th>2</th>\n",
       "      <td>0</td>\n",
       "      <td>0</td>\n",
       "      <td>0</td>\n",
       "      <td>0</td>\n",
       "      <td>0</td>\n",
       "      <td>0</td>\n",
       "      <td>0</td>\n",
       "      <td>0</td>\n",
       "      <td>0</td>\n",
       "      <td>0</td>\n",
       "      <td>...</td>\n",
       "      <td>0</td>\n",
       "      <td>0</td>\n",
       "      <td>0</td>\n",
       "      <td>0</td>\n",
       "      <td>0</td>\n",
       "      <td>0</td>\n",
       "      <td>0</td>\n",
       "      <td>0</td>\n",
       "      <td>0</td>\n",
       "      <td>0</td>\n",
       "    </tr>\n",
       "    <tr>\n",
       "      <th>3</th>\n",
       "      <td>0</td>\n",
       "      <td>0</td>\n",
       "      <td>0</td>\n",
       "      <td>0</td>\n",
       "      <td>0</td>\n",
       "      <td>0</td>\n",
       "      <td>0</td>\n",
       "      <td>0</td>\n",
       "      <td>0</td>\n",
       "      <td>0</td>\n",
       "      <td>...</td>\n",
       "      <td>0</td>\n",
       "      <td>0</td>\n",
       "      <td>0</td>\n",
       "      <td>0</td>\n",
       "      <td>0</td>\n",
       "      <td>0</td>\n",
       "      <td>0</td>\n",
       "      <td>0</td>\n",
       "      <td>0</td>\n",
       "      <td>0</td>\n",
       "    </tr>\n",
       "    <tr>\n",
       "      <th>4</th>\n",
       "      <td>0</td>\n",
       "      <td>0</td>\n",
       "      <td>0</td>\n",
       "      <td>0</td>\n",
       "      <td>0</td>\n",
       "      <td>0</td>\n",
       "      <td>0</td>\n",
       "      <td>0</td>\n",
       "      <td>0</td>\n",
       "      <td>0</td>\n",
       "      <td>...</td>\n",
       "      <td>0</td>\n",
       "      <td>0</td>\n",
       "      <td>0</td>\n",
       "      <td>0</td>\n",
       "      <td>0</td>\n",
       "      <td>0</td>\n",
       "      <td>0</td>\n",
       "      <td>0</td>\n",
       "      <td>0</td>\n",
       "      <td>0</td>\n",
       "    </tr>\n",
       "  </tbody>\n",
       "</table>\n",
       "<p>5 rows × 433 columns</p>\n",
       "</div>"
      ],
      "text/plain": [
       "   access  accuracy  achieve  active  activities  address  addressing  \\\n",
       "0       0         0        0       0           0        0           0   \n",
       "1       0         0        0       0           0        0           0   \n",
       "2       0         0        0       0           0        0           0   \n",
       "3       0         0        0       0           0        0           0   \n",
       "4       0         0        0       0           0        0           0   \n",
       "\n",
       "   affecting  algebra  algorithm  ...  viruses  vpn  vulnerabilities  \\\n",
       "0          0        0          0  ...        0    0                0   \n",
       "1          0        0          0  ...        0    0                0   \n",
       "2          0        0          0  ...        0    0                0   \n",
       "3          0        0          0  ...        0    0                0   \n",
       "4          0        0          0  ...        0    0                0   \n",
       "\n",
       "   vulnerability  web  workers  workplace  write  writing  written  \n",
       "0              0    0        0          0      0        0        0  \n",
       "1              0    0        0          0      0        0        0  \n",
       "2              0    0        0          0      0        0        0  \n",
       "3              0    0        0          0      0        0        0  \n",
       "4              0    0        0          0      0        0        0  \n",
       "\n",
       "[5 rows x 433 columns]"
      ]
     },
     "execution_count": 155,
     "metadata": {},
     "output_type": "execute_result"
    }
   ],
   "source": [
    "X2.head()"
   ]
  },
  {
   "cell_type": "code",
   "execution_count": 156,
   "metadata": {
    "id": "b6W1EAfRXq91"
   },
   "outputs": [],
   "source": [
    "# adding column index to the CLO table\n",
    "U2 = pd.concat([df1[0], X2], axis=1)\n",
    "U2.set_index(0, inplace=True)"
   ]
  },
  {
   "cell_type": "code",
   "execution_count": 157,
   "metadata": {
    "colab": {
     "base_uri": "https://localhost:8080/",
     "height": 331
    },
    "id": "1RAJJ1I_mxiL",
    "outputId": "bc32ea6a-e597-4362-d2fa-aff4d2bbb47d"
   },
   "outputs": [
    {
     "data": {
      "text/html": [
       "<div>\n",
       "<style scoped>\n",
       "    .dataframe tbody tr th:only-of-type {\n",
       "        vertical-align: middle;\n",
       "    }\n",
       "\n",
       "    .dataframe tbody tr th {\n",
       "        vertical-align: top;\n",
       "    }\n",
       "\n",
       "    .dataframe thead th {\n",
       "        text-align: right;\n",
       "    }\n",
       "</style>\n",
       "<table border=\"1\" class=\"dataframe\">\n",
       "  <thead>\n",
       "    <tr style=\"text-align: right;\">\n",
       "      <th></th>\n",
       "      <th>access</th>\n",
       "      <th>accuracy</th>\n",
       "      <th>achieve</th>\n",
       "      <th>active</th>\n",
       "      <th>activities</th>\n",
       "      <th>address</th>\n",
       "      <th>addressing</th>\n",
       "      <th>affecting</th>\n",
       "      <th>algebra</th>\n",
       "      <th>algorithm</th>\n",
       "      <th>...</th>\n",
       "      <th>viruses</th>\n",
       "      <th>vpn</th>\n",
       "      <th>vulnerabilities</th>\n",
       "      <th>vulnerability</th>\n",
       "      <th>web</th>\n",
       "      <th>workers</th>\n",
       "      <th>workplace</th>\n",
       "      <th>write</th>\n",
       "      <th>writing</th>\n",
       "      <th>written</th>\n",
       "    </tr>\n",
       "    <tr>\n",
       "      <th>0</th>\n",
       "      <th></th>\n",
       "      <th></th>\n",
       "      <th></th>\n",
       "      <th></th>\n",
       "      <th></th>\n",
       "      <th></th>\n",
       "      <th></th>\n",
       "      <th></th>\n",
       "      <th></th>\n",
       "      <th></th>\n",
       "      <th></th>\n",
       "      <th></th>\n",
       "      <th></th>\n",
       "      <th></th>\n",
       "      <th></th>\n",
       "      <th></th>\n",
       "      <th></th>\n",
       "      <th></th>\n",
       "      <th></th>\n",
       "      <th></th>\n",
       "      <th></th>\n",
       "    </tr>\n",
       "  </thead>\n",
       "  <tbody>\n",
       "    <tr>\n",
       "      <th>C1</th>\n",
       "      <td>0</td>\n",
       "      <td>0</td>\n",
       "      <td>0</td>\n",
       "      <td>0</td>\n",
       "      <td>0</td>\n",
       "      <td>0</td>\n",
       "      <td>0</td>\n",
       "      <td>0</td>\n",
       "      <td>0</td>\n",
       "      <td>0</td>\n",
       "      <td>...</td>\n",
       "      <td>0</td>\n",
       "      <td>0</td>\n",
       "      <td>0</td>\n",
       "      <td>0</td>\n",
       "      <td>0</td>\n",
       "      <td>0</td>\n",
       "      <td>0</td>\n",
       "      <td>0</td>\n",
       "      <td>0</td>\n",
       "      <td>0</td>\n",
       "    </tr>\n",
       "    <tr>\n",
       "      <th>C2</th>\n",
       "      <td>0</td>\n",
       "      <td>0</td>\n",
       "      <td>0</td>\n",
       "      <td>0</td>\n",
       "      <td>0</td>\n",
       "      <td>0</td>\n",
       "      <td>0</td>\n",
       "      <td>0</td>\n",
       "      <td>0</td>\n",
       "      <td>0</td>\n",
       "      <td>...</td>\n",
       "      <td>0</td>\n",
       "      <td>0</td>\n",
       "      <td>0</td>\n",
       "      <td>0</td>\n",
       "      <td>0</td>\n",
       "      <td>0</td>\n",
       "      <td>0</td>\n",
       "      <td>0</td>\n",
       "      <td>0</td>\n",
       "      <td>0</td>\n",
       "    </tr>\n",
       "    <tr>\n",
       "      <th>C3</th>\n",
       "      <td>0</td>\n",
       "      <td>0</td>\n",
       "      <td>0</td>\n",
       "      <td>0</td>\n",
       "      <td>0</td>\n",
       "      <td>0</td>\n",
       "      <td>0</td>\n",
       "      <td>0</td>\n",
       "      <td>0</td>\n",
       "      <td>0</td>\n",
       "      <td>...</td>\n",
       "      <td>0</td>\n",
       "      <td>0</td>\n",
       "      <td>0</td>\n",
       "      <td>0</td>\n",
       "      <td>0</td>\n",
       "      <td>0</td>\n",
       "      <td>0</td>\n",
       "      <td>0</td>\n",
       "      <td>0</td>\n",
       "      <td>0</td>\n",
       "    </tr>\n",
       "    <tr>\n",
       "      <th>C4</th>\n",
       "      <td>0</td>\n",
       "      <td>0</td>\n",
       "      <td>0</td>\n",
       "      <td>0</td>\n",
       "      <td>0</td>\n",
       "      <td>0</td>\n",
       "      <td>0</td>\n",
       "      <td>0</td>\n",
       "      <td>0</td>\n",
       "      <td>0</td>\n",
       "      <td>...</td>\n",
       "      <td>0</td>\n",
       "      <td>0</td>\n",
       "      <td>0</td>\n",
       "      <td>0</td>\n",
       "      <td>0</td>\n",
       "      <td>0</td>\n",
       "      <td>0</td>\n",
       "      <td>0</td>\n",
       "      <td>0</td>\n",
       "      <td>0</td>\n",
       "    </tr>\n",
       "    <tr>\n",
       "      <th>C5</th>\n",
       "      <td>0</td>\n",
       "      <td>0</td>\n",
       "      <td>0</td>\n",
       "      <td>0</td>\n",
       "      <td>0</td>\n",
       "      <td>0</td>\n",
       "      <td>0</td>\n",
       "      <td>0</td>\n",
       "      <td>0</td>\n",
       "      <td>0</td>\n",
       "      <td>...</td>\n",
       "      <td>0</td>\n",
       "      <td>0</td>\n",
       "      <td>0</td>\n",
       "      <td>0</td>\n",
       "      <td>0</td>\n",
       "      <td>0</td>\n",
       "      <td>0</td>\n",
       "      <td>0</td>\n",
       "      <td>0</td>\n",
       "      <td>0</td>\n",
       "    </tr>\n",
       "  </tbody>\n",
       "</table>\n",
       "<p>5 rows × 433 columns</p>\n",
       "</div>"
      ],
      "text/plain": [
       "    access  accuracy  achieve  active  activities  address  addressing  \\\n",
       "0                                                                        \n",
       "C1       0         0        0       0           0        0           0   \n",
       "C2       0         0        0       0           0        0           0   \n",
       "C3       0         0        0       0           0        0           0   \n",
       "C4       0         0        0       0           0        0           0   \n",
       "C5       0         0        0       0           0        0           0   \n",
       "\n",
       "    affecting  algebra  algorithm  ...  viruses  vpn  vulnerabilities  \\\n",
       "0                                  ...                                  \n",
       "C1          0        0          0  ...        0    0                0   \n",
       "C2          0        0          0  ...        0    0                0   \n",
       "C3          0        0          0  ...        0    0                0   \n",
       "C4          0        0          0  ...        0    0                0   \n",
       "C5          0        0          0  ...        0    0                0   \n",
       "\n",
       "    vulnerability  web  workers  workplace  write  writing  written  \n",
       "0                                                                    \n",
       "C1              0    0        0          0      0        0        0  \n",
       "C2              0    0        0          0      0        0        0  \n",
       "C3              0    0        0          0      0        0        0  \n",
       "C4              0    0        0          0      0        0        0  \n",
       "C5              0    0        0          0      0        0        0  \n",
       "\n",
       "[5 rows x 433 columns]"
      ]
     },
     "execution_count": 157,
     "metadata": {},
     "output_type": "execute_result"
    }
   ],
   "source": [
    "U2.head()"
   ]
  },
  {
   "cell_type": "code",
   "execution_count": 158,
   "metadata": {
    "id": "PwmpreCjXrBN"
   },
   "outputs": [],
   "source": [
    "# adding column index to the PLO table\n",
    "U1 = pd.concat([df[0], X1], axis=1)\n",
    "U1.set_index(0, inplace=True)"
   ]
  },
  {
   "cell_type": "code",
   "execution_count": 159,
   "metadata": {
    "colab": {
     "base_uri": "https://localhost:8080/",
     "height": 362
    },
    "id": "rrmS-OWgm1BK",
    "outputId": "6390c385-b086-4fd4-cad1-59b1da009925"
   },
   "outputs": [
    {
     "data": {
      "text/html": [
       "<div>\n",
       "<style scoped>\n",
       "    .dataframe tbody tr th:only-of-type {\n",
       "        vertical-align: middle;\n",
       "    }\n",
       "\n",
       "    .dataframe tbody tr th {\n",
       "        vertical-align: top;\n",
       "    }\n",
       "\n",
       "    .dataframe thead th {\n",
       "        text-align: right;\n",
       "    }\n",
       "</style>\n",
       "<table border=\"1\" class=\"dataframe\">\n",
       "  <thead>\n",
       "    <tr style=\"text-align: right;\">\n",
       "      <th></th>\n",
       "      <th>activities</th>\n",
       "      <th>analyze</th>\n",
       "      <th>apply</th>\n",
       "      <th>appropriate</th>\n",
       "      <th>based</th>\n",
       "      <th>communicate</th>\n",
       "      <th>complex</th>\n",
       "      <th>computing</th>\n",
       "      <th>context</th>\n",
       "      <th>contexts</th>\n",
       "      <th>...</th>\n",
       "      <th>requirements</th>\n",
       "      <th>responsibilities</th>\n",
       "      <th>risks</th>\n",
       "      <th>security</th>\n",
       "      <th>set</th>\n",
       "      <th>solution</th>\n",
       "      <th>solutions</th>\n",
       "      <th>team</th>\n",
       "      <th>threats</th>\n",
       "      <th>variety</th>\n",
       "    </tr>\n",
       "    <tr>\n",
       "      <th>0</th>\n",
       "      <th></th>\n",
       "      <th></th>\n",
       "      <th></th>\n",
       "      <th></th>\n",
       "      <th></th>\n",
       "      <th></th>\n",
       "      <th></th>\n",
       "      <th></th>\n",
       "      <th></th>\n",
       "      <th></th>\n",
       "      <th></th>\n",
       "      <th></th>\n",
       "      <th></th>\n",
       "      <th></th>\n",
       "      <th></th>\n",
       "      <th></th>\n",
       "      <th></th>\n",
       "      <th></th>\n",
       "      <th></th>\n",
       "      <th></th>\n",
       "      <th></th>\n",
       "    </tr>\n",
       "  </thead>\n",
       "  <tbody>\n",
       "    <tr>\n",
       "      <th>P1</th>\n",
       "      <td>0</td>\n",
       "      <td>1</td>\n",
       "      <td>1</td>\n",
       "      <td>0</td>\n",
       "      <td>0</td>\n",
       "      <td>0</td>\n",
       "      <td>1</td>\n",
       "      <td>2</td>\n",
       "      <td>0</td>\n",
       "      <td>0</td>\n",
       "      <td>...</td>\n",
       "      <td>0</td>\n",
       "      <td>0</td>\n",
       "      <td>0</td>\n",
       "      <td>0</td>\n",
       "      <td>0</td>\n",
       "      <td>0</td>\n",
       "      <td>1</td>\n",
       "      <td>0</td>\n",
       "      <td>0</td>\n",
       "      <td>0</td>\n",
       "    </tr>\n",
       "    <tr>\n",
       "      <th>P2</th>\n",
       "      <td>0</td>\n",
       "      <td>0</td>\n",
       "      <td>0</td>\n",
       "      <td>0</td>\n",
       "      <td>1</td>\n",
       "      <td>0</td>\n",
       "      <td>0</td>\n",
       "      <td>2</td>\n",
       "      <td>1</td>\n",
       "      <td>0</td>\n",
       "      <td>...</td>\n",
       "      <td>1</td>\n",
       "      <td>0</td>\n",
       "      <td>0</td>\n",
       "      <td>0</td>\n",
       "      <td>1</td>\n",
       "      <td>1</td>\n",
       "      <td>0</td>\n",
       "      <td>0</td>\n",
       "      <td>0</td>\n",
       "      <td>0</td>\n",
       "    </tr>\n",
       "    <tr>\n",
       "      <th>P3</th>\n",
       "      <td>0</td>\n",
       "      <td>0</td>\n",
       "      <td>0</td>\n",
       "      <td>0</td>\n",
       "      <td>0</td>\n",
       "      <td>1</td>\n",
       "      <td>0</td>\n",
       "      <td>0</td>\n",
       "      <td>0</td>\n",
       "      <td>1</td>\n",
       "      <td>...</td>\n",
       "      <td>0</td>\n",
       "      <td>0</td>\n",
       "      <td>0</td>\n",
       "      <td>0</td>\n",
       "      <td>0</td>\n",
       "      <td>0</td>\n",
       "      <td>0</td>\n",
       "      <td>0</td>\n",
       "      <td>0</td>\n",
       "      <td>1</td>\n",
       "    </tr>\n",
       "    <tr>\n",
       "      <th>P4</th>\n",
       "      <td>0</td>\n",
       "      <td>0</td>\n",
       "      <td>0</td>\n",
       "      <td>0</td>\n",
       "      <td>1</td>\n",
       "      <td>0</td>\n",
       "      <td>0</td>\n",
       "      <td>1</td>\n",
       "      <td>0</td>\n",
       "      <td>0</td>\n",
       "      <td>...</td>\n",
       "      <td>0</td>\n",
       "      <td>1</td>\n",
       "      <td>0</td>\n",
       "      <td>0</td>\n",
       "      <td>0</td>\n",
       "      <td>0</td>\n",
       "      <td>0</td>\n",
       "      <td>0</td>\n",
       "      <td>0</td>\n",
       "      <td>0</td>\n",
       "    </tr>\n",
       "    <tr>\n",
       "      <th>P5</th>\n",
       "      <td>1</td>\n",
       "      <td>0</td>\n",
       "      <td>0</td>\n",
       "      <td>1</td>\n",
       "      <td>0</td>\n",
       "      <td>0</td>\n",
       "      <td>0</td>\n",
       "      <td>0</td>\n",
       "      <td>0</td>\n",
       "      <td>0</td>\n",
       "      <td>...</td>\n",
       "      <td>0</td>\n",
       "      <td>0</td>\n",
       "      <td>0</td>\n",
       "      <td>0</td>\n",
       "      <td>0</td>\n",
       "      <td>0</td>\n",
       "      <td>0</td>\n",
       "      <td>1</td>\n",
       "      <td>0</td>\n",
       "      <td>0</td>\n",
       "    </tr>\n",
       "    <tr>\n",
       "      <th>P6</th>\n",
       "      <td>0</td>\n",
       "      <td>0</td>\n",
       "      <td>1</td>\n",
       "      <td>0</td>\n",
       "      <td>0</td>\n",
       "      <td>0</td>\n",
       "      <td>0</td>\n",
       "      <td>0</td>\n",
       "      <td>0</td>\n",
       "      <td>0</td>\n",
       "      <td>...</td>\n",
       "      <td>0</td>\n",
       "      <td>0</td>\n",
       "      <td>1</td>\n",
       "      <td>1</td>\n",
       "      <td>0</td>\n",
       "      <td>0</td>\n",
       "      <td>0</td>\n",
       "      <td>0</td>\n",
       "      <td>1</td>\n",
       "      <td>0</td>\n",
       "    </tr>\n",
       "  </tbody>\n",
       "</table>\n",
       "<p>6 rows × 49 columns</p>\n",
       "</div>"
      ],
      "text/plain": [
       "    activities  analyze  apply  appropriate  based  communicate  complex  \\\n",
       "0                                                                          \n",
       "P1           0        1      1            0      0            0        1   \n",
       "P2           0        0      0            0      1            0        0   \n",
       "P3           0        0      0            0      0            1        0   \n",
       "P4           0        0      0            0      1            0        0   \n",
       "P5           1        0      0            1      0            0        0   \n",
       "P6           0        0      1            0      0            0        0   \n",
       "\n",
       "    computing  context  contexts  ...  requirements  responsibilities  risks  \\\n",
       "0                                 ...                                          \n",
       "P1          2        0         0  ...             0                 0      0   \n",
       "P2          2        1         0  ...             1                 0      0   \n",
       "P3          0        0         1  ...             0                 0      0   \n",
       "P4          1        0         0  ...             0                 1      0   \n",
       "P5          0        0         0  ...             0                 0      0   \n",
       "P6          0        0         0  ...             0                 0      1   \n",
       "\n",
       "    security  set  solution  solutions  team  threats  variety  \n",
       "0                                                               \n",
       "P1         0    0         0          1     0        0        0  \n",
       "P2         0    1         1          0     0        0        0  \n",
       "P3         0    0         0          0     0        0        1  \n",
       "P4         0    0         0          0     0        0        0  \n",
       "P5         0    0         0          0     1        0        0  \n",
       "P6         1    0         0          0     0        1        0  \n",
       "\n",
       "[6 rows x 49 columns]"
      ]
     },
     "execution_count": 159,
     "metadata": {},
     "output_type": "execute_result"
    }
   ],
   "source": [
    "U1"
   ]
  },
  {
   "attachments": {},
   "cell_type": "markdown",
   "metadata": {
    "id": "KITnhyrLYo13"
   },
   "source": [
    "## Intersection method for both CLOs and PLOs"
   ]
  },
  {
   "attachments": {},
   "cell_type": "markdown",
   "metadata": {
    "id": "aS2D2OmEpueu"
   },
   "source": [
    "### Generalised list of words"
   ]
  },
  {
   "cell_type": "code",
   "execution_count": 160,
   "metadata": {
    "id": "Wu1iwUnkn0cP"
   },
   "outputs": [],
   "source": [
    "append_words = list(map(str.lower,['Cite', 'Define', 'Describe', 'Draw', 'Enumerate', 'Identify' 'Index', 'Indicate', 'Label', 'List', 'Match', 'Meet', 'Name', 'Outline', 'Point', 'Quote', 'Read', 'Recall', 'Recite', 'Recognize', 'Record', 'Repeat', 'Reproduce','Review',\n",
    "'Select', 'State', 'Study', 'Tabulate', 'Trace', 'Write', 'Add', 'Approximate', 'Articulate', 'Associate', 'Characterize', 'Clarify', 'Classify', 'Compare', 'Compute', 'Contrast', 'Convert', 'Defend', 'Detail', 'Differentiate',\n",
    "'Discuss', 'Distinguish', 'Elaborate', 'Estimate', 'Example', 'Explain', 'Express', 'Extend', 'Extrapolate', 'Factor', 'Generalize', 'Give', 'Infer', 'Interact', 'Interpolate', 'Interpret', 'Observe', 'Paraphrase', 'Picture graphically',\n",
    "'Predict', 'Rewrite', 'Subtract', 'Summarize', 'Translate', 'Visualize', 'Acquire', 'Adapt', 'Allocate', 'Alphabetize', 'Apply', 'Ascertain', 'Assign', 'Attain', 'Avoid', 'Back up', 'Calculate', 'Capture', 'Change', 'Complete', 'Construct', \n",
    "'Customize', 'Demonstrate', 'Depreciate', 'Derive', 'Determine', 'Diminish', 'Discover', 'Employ', 'Examine', 'Exercise', 'Explore', 'Expose', 'Figure', 'Graph', 'Handle', 'Illustrate', 'Interconvert', 'Investigate', 'Manipulate', 'Modify', \n",
    "'Operate', 'Personalize', 'Plot','Practice', 'Prepare', 'Price', 'Process', 'Produce', 'Project', 'Provide', 'Relate', 'Round off', 'Sequence', 'Show', 'Simulate', 'Sketch', 'Solve', 'Subscribe', 'Transcribe', 'Use', 'Analyze', 'Audit', \n",
    "'Blueprint', 'Breadboard', 'Break down', 'Confirm', 'Correlate', 'Detect', 'Diagnose', 'Diagram', 'Discriminate', 'Dissect', 'Document', 'Ensure', 'Figure out', 'File', 'Group', 'Interrupt', 'Inventory', 'Layout', 'Manage', 'Maximize', \n",
    "'Minimize', 'Optimize', 'Order', 'Point out', 'Prioritize', 'Proofread', 'Query', 'Separate', 'Subdivide', 'Train', 'Transform', 'Appraise', 'Assess', 'Conclude', 'Counsel', 'Criticize', 'Critique', 'Evaluate', 'Grade', 'Hire', 'Judge', \n",
    "'Justify', 'Measure', 'Prescribe', 'Rank', 'Rate', 'Recommend', 'Release', 'Support', 'Test', 'Validate', 'Verify', 'Abstract', 'Animate', 'Arrange', 'Assemble', 'Budget', 'Categorize', 'Code', 'Combine', 'Compile', 'Compose', 'Cope', \n",
    "'Correspond', 'Create', 'Cultivate', 'Debug', 'Depict', 'Design', 'Develop', 'Devise', 'Dictate', 'Enhance', 'Facilitate', 'Format', 'Formulate', 'Generate', 'Import', 'Improve', 'Incorporate', 'Integrate', 'Interface', 'Join', 'Lecture', \n",
    "'Model', 'Network', 'Organize', 'Overhaul', 'Plan', 'Portray', 'Program', 'Rearrange', 'Reconstruct', 'Reorganize', 'Revise', 'Specify']))"
   ]
  },
  {
   "cell_type": "code",
   "execution_count": 164,
   "metadata": {
    "id": "v1Oy5S1Gn7G-"
   },
   "outputs": [],
   "source": [
    "# using + operator to concat the generalised list of words to the PLO list\n",
    "train_column = list(feature_names) + append_words"
   ]
  },
  {
   "cell_type": "code",
   "execution_count": 165,
   "metadata": {
    "id": "xFcACqqen7OO"
   },
   "outputs": [],
   "source": [
    "# CLO list of words\n",
    "test_column = feature_names1"
   ]
  },
  {
   "cell_type": "code",
   "execution_count": 168,
   "metadata": {
    "id": "f4mKQFEyXrEe"
   },
   "outputs": [],
   "source": [
    "# Intersection method for extracting common column names from the tables (both CLO AND PLO)\n",
    "# comparing whether the CLO column name is present in the PLO column names or not\n",
    "train_column = list(feature_names) + append_words # (PLO table ) (# using + operator to concat PLO words and list of generalized words)\n",
    "test_column = list(feature_names1)   # (CLO table)"
   ]
  },
  {
   "cell_type": "code",
   "execution_count": 169,
   "metadata": {
    "colab": {
     "base_uri": "https://localhost:8080/"
    },
    "id": "GXFTvsnDXrHV",
    "outputId": "5df371f0-585d-4945-9342-c21959bf533b"
   },
   "outputs": [
    {
     "data": {
      "text/plain": [
       "['write',\n",
       " 'identify',\n",
       " 'define',\n",
       " 'ethical',\n",
       " 'manage',\n",
       " 'prepare',\n",
       " 'develop',\n",
       " 'graph',\n",
       " 'project',\n",
       " 'professional',\n",
       " 'practices',\n",
       " 'sequence',\n",
       " 'solutions',\n",
       " 'network',\n",
       " 'defend',\n",
       " 'given',\n",
       " 'communicate',\n",
       " 'solve',\n",
       " 'security',\n",
       " 'assess',\n",
       " 'cultivate',\n",
       " 'integrate',\n",
       " 'derive',\n",
       " 'criticize',\n",
       " 'principles',\n",
       " 'evaluate',\n",
       " 'convert',\n",
       " 'discover',\n",
       " 'test',\n",
       " 'contexts',\n",
       " 'discuss',\n",
       " 'use',\n",
       " 'file',\n",
       " 'plan',\n",
       " 'investigate',\n",
       " 'threats',\n",
       " 'problem',\n",
       " 'process',\n",
       " 'explain',\n",
       " 'code',\n",
       " 'customize',\n",
       " 'computing',\n",
       " 'effectively',\n",
       " 'manipulate',\n",
       " 'solution',\n",
       " 'requirements',\n",
       " 'apply',\n",
       " 'relevant',\n",
       " 'team',\n",
       " 'responsibilities',\n",
       " 'demonstrate',\n",
       " 'recognize',\n",
       " 'program',\n",
       " 'activities',\n",
       " 'translate',\n",
       " 'operations',\n",
       " 'compare',\n",
       " 'appropriate',\n",
       " 'create',\n",
       " 'legal',\n",
       " 'produce',\n",
       " 'function',\n",
       " 'based',\n",
       " 'interface',\n",
       " 'implement',\n",
       " 'model',\n",
       " 'select',\n",
       " 'query',\n",
       " 'design',\n",
       " 'analyze',\n",
       " 'diagram']"
      ]
     },
     "execution_count": 169,
     "metadata": {},
     "output_type": "execute_result"
    }
   ],
   "source": [
    "# This is the column names from both the tables (using intersection)\n",
    "common_column = list(set(train_column).intersection(set(test_column)))\n",
    "common_column"
   ]
  },
  {
   "cell_type": "code",
   "execution_count": 170,
   "metadata": {
    "colab": {
     "base_uri": "https://localhost:8080/"
    },
    "id": "dxFuq2Glm4lK",
    "outputId": "ab3f8b6d-b942-4957-c206-0669f5d79e35"
   },
   "outputs": [
    {
     "name": "stdout",
     "output_type": "stream",
     "text": [
      "['write', 'identify', 'define', 'ethical', 'manage', 'prepare', 'develop', 'graph', 'project', 'professional', 'practices', 'sequence', 'solutions', 'network', 'defend', 'given', 'communicate', 'solve', 'security', 'assess', 'cultivate', 'integrate', 'derive', 'criticize', 'principles', 'evaluate', 'convert', 'discover', 'test', 'contexts', 'discuss', 'use', 'file', 'plan', 'investigate', 'threats', 'problem', 'process', 'explain', 'code', 'customize', 'computing', 'effectively', 'manipulate', 'solution', 'requirements', 'apply', 'relevant', 'team', 'responsibilities', 'demonstrate', 'recognize', 'program', 'activities', 'translate', 'operations', 'compare', 'appropriate', 'create', 'legal', 'produce', 'function', 'based', 'interface', 'implement', 'model', 'select', 'query', 'design', 'analyze', 'diagram']\n"
     ]
    }
   ],
   "source": [
    "print(common_column)"
   ]
  },
  {
   "cell_type": "code",
   "execution_count": 171,
   "metadata": {
    "colab": {
     "base_uri": "https://localhost:8080/"
    },
    "id": "iVuJ4Fmbm-cM",
    "outputId": "8d3e8bb4-58ca-4b2e-d0ef-046eadb161fd"
   },
   "outputs": [
    {
     "data": {
      "text/plain": [
       "71"
      ]
     },
     "execution_count": 171,
     "metadata": {},
     "output_type": "execute_result"
    }
   ],
   "source": [
    "len(common_column)"
   ]
  },
  {
   "cell_type": "code",
   "execution_count": 172,
   "metadata": {
    "id": "Q8J85w03XrKF"
   },
   "outputs": [],
   "source": [
    "# Filter the common column values from the CLO table\n",
    "U3 = U2.filter(list(common_column), axis=1)"
   ]
  },
  {
   "cell_type": "code",
   "execution_count": 173,
   "metadata": {
    "colab": {
     "base_uri": "https://localhost:8080/",
     "height": 331
    },
    "id": "AeqnATgZnh6y",
    "outputId": "d904ef48-d05d-4193-dffa-c27e040fd887"
   },
   "outputs": [
    {
     "data": {
      "text/html": [
       "<div>\n",
       "<style scoped>\n",
       "    .dataframe tbody tr th:only-of-type {\n",
       "        vertical-align: middle;\n",
       "    }\n",
       "\n",
       "    .dataframe tbody tr th {\n",
       "        vertical-align: top;\n",
       "    }\n",
       "\n",
       "    .dataframe thead th {\n",
       "        text-align: right;\n",
       "    }\n",
       "</style>\n",
       "<table border=\"1\" class=\"dataframe\">\n",
       "  <thead>\n",
       "    <tr style=\"text-align: right;\">\n",
       "      <th></th>\n",
       "      <th>write</th>\n",
       "      <th>identify</th>\n",
       "      <th>define</th>\n",
       "      <th>ethical</th>\n",
       "      <th>manage</th>\n",
       "      <th>prepare</th>\n",
       "      <th>develop</th>\n",
       "      <th>graph</th>\n",
       "      <th>project</th>\n",
       "      <th>professional</th>\n",
       "      <th>...</th>\n",
       "      <th>function</th>\n",
       "      <th>based</th>\n",
       "      <th>interface</th>\n",
       "      <th>implement</th>\n",
       "      <th>model</th>\n",
       "      <th>select</th>\n",
       "      <th>query</th>\n",
       "      <th>design</th>\n",
       "      <th>analyze</th>\n",
       "      <th>diagram</th>\n",
       "    </tr>\n",
       "    <tr>\n",
       "      <th>0</th>\n",
       "      <th></th>\n",
       "      <th></th>\n",
       "      <th></th>\n",
       "      <th></th>\n",
       "      <th></th>\n",
       "      <th></th>\n",
       "      <th></th>\n",
       "      <th></th>\n",
       "      <th></th>\n",
       "      <th></th>\n",
       "      <th></th>\n",
       "      <th></th>\n",
       "      <th></th>\n",
       "      <th></th>\n",
       "      <th></th>\n",
       "      <th></th>\n",
       "      <th></th>\n",
       "      <th></th>\n",
       "      <th></th>\n",
       "      <th></th>\n",
       "      <th></th>\n",
       "    </tr>\n",
       "  </thead>\n",
       "  <tbody>\n",
       "    <tr>\n",
       "      <th>C1</th>\n",
       "      <td>0</td>\n",
       "      <td>0</td>\n",
       "      <td>0</td>\n",
       "      <td>0</td>\n",
       "      <td>0</td>\n",
       "      <td>0</td>\n",
       "      <td>0</td>\n",
       "      <td>0</td>\n",
       "      <td>0</td>\n",
       "      <td>0</td>\n",
       "      <td>...</td>\n",
       "      <td>0</td>\n",
       "      <td>0</td>\n",
       "      <td>0</td>\n",
       "      <td>0</td>\n",
       "      <td>0</td>\n",
       "      <td>0</td>\n",
       "      <td>0</td>\n",
       "      <td>0</td>\n",
       "      <td>0</td>\n",
       "      <td>0</td>\n",
       "    </tr>\n",
       "    <tr>\n",
       "      <th>C2</th>\n",
       "      <td>0</td>\n",
       "      <td>0</td>\n",
       "      <td>0</td>\n",
       "      <td>0</td>\n",
       "      <td>0</td>\n",
       "      <td>0</td>\n",
       "      <td>0</td>\n",
       "      <td>0</td>\n",
       "      <td>0</td>\n",
       "      <td>0</td>\n",
       "      <td>...</td>\n",
       "      <td>0</td>\n",
       "      <td>0</td>\n",
       "      <td>0</td>\n",
       "      <td>0</td>\n",
       "      <td>0</td>\n",
       "      <td>0</td>\n",
       "      <td>0</td>\n",
       "      <td>0</td>\n",
       "      <td>0</td>\n",
       "      <td>0</td>\n",
       "    </tr>\n",
       "    <tr>\n",
       "      <th>C3</th>\n",
       "      <td>0</td>\n",
       "      <td>1</td>\n",
       "      <td>0</td>\n",
       "      <td>0</td>\n",
       "      <td>0</td>\n",
       "      <td>0</td>\n",
       "      <td>0</td>\n",
       "      <td>0</td>\n",
       "      <td>0</td>\n",
       "      <td>0</td>\n",
       "      <td>...</td>\n",
       "      <td>0</td>\n",
       "      <td>0</td>\n",
       "      <td>0</td>\n",
       "      <td>0</td>\n",
       "      <td>0</td>\n",
       "      <td>0</td>\n",
       "      <td>0</td>\n",
       "      <td>0</td>\n",
       "      <td>0</td>\n",
       "      <td>0</td>\n",
       "    </tr>\n",
       "    <tr>\n",
       "      <th>C4</th>\n",
       "      <td>0</td>\n",
       "      <td>0</td>\n",
       "      <td>0</td>\n",
       "      <td>1</td>\n",
       "      <td>0</td>\n",
       "      <td>0</td>\n",
       "      <td>0</td>\n",
       "      <td>0</td>\n",
       "      <td>0</td>\n",
       "      <td>0</td>\n",
       "      <td>...</td>\n",
       "      <td>0</td>\n",
       "      <td>0</td>\n",
       "      <td>0</td>\n",
       "      <td>0</td>\n",
       "      <td>0</td>\n",
       "      <td>0</td>\n",
       "      <td>0</td>\n",
       "      <td>0</td>\n",
       "      <td>0</td>\n",
       "      <td>0</td>\n",
       "    </tr>\n",
       "    <tr>\n",
       "      <th>C5</th>\n",
       "      <td>0</td>\n",
       "      <td>0</td>\n",
       "      <td>0</td>\n",
       "      <td>0</td>\n",
       "      <td>0</td>\n",
       "      <td>0</td>\n",
       "      <td>0</td>\n",
       "      <td>0</td>\n",
       "      <td>0</td>\n",
       "      <td>0</td>\n",
       "      <td>...</td>\n",
       "      <td>0</td>\n",
       "      <td>0</td>\n",
       "      <td>0</td>\n",
       "      <td>0</td>\n",
       "      <td>0</td>\n",
       "      <td>0</td>\n",
       "      <td>0</td>\n",
       "      <td>0</td>\n",
       "      <td>0</td>\n",
       "      <td>1</td>\n",
       "    </tr>\n",
       "  </tbody>\n",
       "</table>\n",
       "<p>5 rows × 71 columns</p>\n",
       "</div>"
      ],
      "text/plain": [
       "    write  identify  define  ethical  manage  prepare  develop  graph  \\\n",
       "0                                                                       \n",
       "C1      0         0       0        0       0        0        0      0   \n",
       "C2      0         0       0        0       0        0        0      0   \n",
       "C3      0         1       0        0       0        0        0      0   \n",
       "C4      0         0       0        1       0        0        0      0   \n",
       "C5      0         0       0        0       0        0        0      0   \n",
       "\n",
       "    project  professional  ...  function  based  interface  implement  model  \\\n",
       "0                          ...                                                 \n",
       "C1        0             0  ...         0      0          0          0      0   \n",
       "C2        0             0  ...         0      0          0          0      0   \n",
       "C3        0             0  ...         0      0          0          0      0   \n",
       "C4        0             0  ...         0      0          0          0      0   \n",
       "C5        0             0  ...         0      0          0          0      0   \n",
       "\n",
       "    select  query  design  analyze  diagram  \n",
       "0                                            \n",
       "C1       0      0       0        0        0  \n",
       "C2       0      0       0        0        0  \n",
       "C3       0      0       0        0        0  \n",
       "C4       0      0       0        0        0  \n",
       "C5       0      0       0        0        1  \n",
       "\n",
       "[5 rows x 71 columns]"
      ]
     },
     "execution_count": 173,
     "metadata": {},
     "output_type": "execute_result"
    }
   ],
   "source": [
    "U3.head()"
   ]
  },
  {
   "cell_type": "code",
   "execution_count": 174,
   "metadata": {
    "id": "sYTk-s3xXrM9"
   },
   "outputs": [],
   "source": [
    "# extracting first row from PLO table and make a dataframe\n",
    "Cs = []\n",
    "for x in range(len(df)):\n",
    "    Cs.append(U1.loc[['P'+str(x+1)]])"
   ]
  },
  {
   "cell_type": "code",
   "execution_count": 175,
   "metadata": {
    "id": "Gvd0fUR7XrPt"
   },
   "outputs": [],
   "source": [
    "# Concatenating these extracted each PLOs with 'n' number of CLOs\n",
    "Dds = []\n",
    "for x in range(len(df)):\n",
    "    Dds.append(pd.concat([Cs[x],U3], sort=True))"
   ]
  },
  {
   "cell_type": "code",
   "execution_count": 176,
   "metadata": {
    "id": "U5FwB5bFXrS9"
   },
   "outputs": [],
   "source": [
    "# Filling the nan values of the concatenated dataframes\n",
    "Ds = []\n",
    "for x in range(len(df)):\n",
    "    Ds.append(Dds[x].fillna(0))"
   ]
  },
  {
   "attachments": {},
   "cell_type": "markdown",
   "metadata": {
    "id": "WLA3uqpeY9ZI"
   },
   "source": [
    "## Calculate Cosine similarity"
   ]
  },
  {
   "cell_type": "code",
   "execution_count": 177,
   "metadata": {
    "id": "AyzKblfgY725"
   },
   "outputs": [],
   "source": [
    "# Calculate cosine similarity for concatenated dataframes and create a new dataframe\n",
    "for x in range(len(df)):\n",
    "    Dds[x] = pd.DataFrame(cosine_similarity(Ds[x], dense_output=True))"
   ]
  },
  {
   "cell_type": "code",
   "execution_count": 178,
   "metadata": {
    "id": "Y7bh2VScY76R"
   },
   "outputs": [],
   "source": [
    "# Extract the '0'th column because it has the CLO-PLO  cosine similarity values. We are neglecting the remaining ones.\n",
    "# Renaming the '0'th column name to 'Pn' ['P1, P2, P3, P4, ... 'Pn']\n",
    "for x in range(len(df)):\n",
    "    Dds[x].rename(columns = {0 :'P'+str(x+1)}, inplace = True)\n"
   ]
  },
  {
   "cell_type": "code",
   "execution_count": 179,
   "metadata": {
    "id": "fJssCZmHZGDR"
   },
   "outputs": [],
   "source": [
    "# Concatenating each  '0'th column from different cosine similarity dataframes\n",
    "Ddn = []\n",
    "for x in range(len(df)):\n",
    "    Ddn.append(Dds[x]['P'+str(x+1)])\n",
    "\n",
    "d = pd.concat(Ddn, axis=1)"
   ]
  },
  {
   "cell_type": "code",
   "execution_count": 180,
   "metadata": {
    "id": "K5psrdOTZGGZ"
   },
   "outputs": [],
   "source": [
    "# '0'th column gives us 1 which means each PLO map with own PLO.\n",
    "# So we are removing that column.\n",
    "dd = d[1:]"
   ]
  },
  {
   "cell_type": "code",
   "execution_count": 181,
   "metadata": {
    "colab": {
     "base_uri": "https://localhost:8080/"
    },
    "id": "KTxJ9O07ZGJr",
    "outputId": "5af1e75c-4145-463b-9d9a-3ffd84287cc1"
   },
   "outputs": [
    {
     "name": "stderr",
     "output_type": "stream",
     "text": [
      "/tmp/ipykernel_11651/3892047967.py:3: SettingWithCopyWarning: \n",
      "A value is trying to be set on a copy of a slice from a DataFrame\n",
      "\n",
      "See the caveats in the documentation: https://pandas.pydata.org/pandas-docs/stable/user_guide/indexing.html#returning-a-view-versus-a-copy\n",
      "  dd.drop(['index'], axis=1, inplace = True)\n"
     ]
    }
   ],
   "source": [
    "# resetting index\n",
    "dd.reset_index(inplace = True)\n",
    "dd.drop(['index'], axis=1, inplace = True)"
   ]
  },
  {
   "cell_type": "code",
   "execution_count": 182,
   "metadata": {
    "id": "_6IQRKhUjvbM"
   },
   "outputs": [],
   "source": [
    "# store the matrix into csv file\n",
    "dd.to_csv('pseudocodematrix.csv', index=False)"
   ]
  },
  {
   "cell_type": "code",
   "execution_count": 183,
   "metadata": {
    "colab": {
     "base_uri": "https://localhost:8080/"
    },
    "id": "FfqgcF23j3-r",
    "outputId": "1e948e88-7d70-42bc-a5bf-8f26c9f6eda5"
   },
   "outputs": [
    {
     "name": "stdout",
     "output_type": "stream",
     "text": [
      "           P1        P2        P3        P4        P5       P6\n",
      "0    0.320256  0.288675  0.000000  0.166667  0.000000  0.00000\n",
      "1    0.554700  0.500000  0.000000  0.288675  0.000000  0.00000\n",
      "2    0.277350  0.000000  0.000000  0.000000  0.000000  0.00000\n",
      "3    0.000000  0.000000  0.000000  0.204124  0.000000  0.00000\n",
      "4    0.138675  0.125000  0.000000  0.000000  0.158114  0.00000\n",
      "..        ...       ...       ...       ...       ...      ...\n",
      "168  0.160128  0.000000  0.000000  0.166667  0.000000  0.19245\n",
      "169  0.000000  0.000000  0.000000  0.000000  0.000000  0.00000\n",
      "170  0.000000  0.000000  0.000000  0.000000  0.000000  0.00000\n",
      "171  0.000000  0.250000  0.000000  0.000000  0.000000  0.00000\n",
      "172  0.000000  0.000000  0.516398  0.000000  0.365148  0.00000\n",
      "\n",
      "[173 rows x 6 columns]\n"
     ]
    }
   ],
   "source": [
    "# print the matrix\n",
    "print(dd)"
   ]
  },
  {
   "attachments": {},
   "cell_type": "markdown",
   "metadata": {
    "id": "JYhDRATaZU3Y"
   },
   "source": [
    "## Setting threshold value (taking min and max of each column and divided by 2)\n",
    "## threshold value = (min +max)/2"
   ]
  },
  {
   "cell_type": "code",
   "execution_count": 184,
   "metadata": {
    "colab": {
     "base_uri": "https://localhost:8080/"
    },
    "id": "OUqMq9LoZGMj",
    "outputId": "4c008335-10b4-41b8-a2b6-bdbc6c2ebe89"
   },
   "outputs": [
    {
     "name": "stderr",
     "output_type": "stream",
     "text": [
      "/tmp/ipykernel_11651/3147605463.py:10: SettingWithCopyWarning: \n",
      "A value is trying to be set on a copy of a slice from a DataFrame.\n",
      "Try using .loc[row_indexer,col_indexer] = value instead\n",
      "\n",
      "See the caveats in the documentation: https://pandas.pydata.org/pandas-docs/stable/user_guide/indexing.html#returning-a-view-versus-a-copy\n",
      "  dd['P'+str(x+1)] = dd['P'+str(x+1)].apply(lambda x: 1 if x >= tt1 else 0)\n"
     ]
    }
   ],
   "source": [
    "# Setting threshold value \n",
    "# Taking min max average of each column and set that as a threshold value\n",
    "for x in range(len(df)):\n",
    "    tes = dd['P'+str(x+1)].values.min()\n",
    "    tes1 = dd['P'+str(x+1)].values.max()\n",
    "    tt1 = (tes+tes1)/2\n",
    "    if tt1 == 0:\n",
    "      dd['P'+str(x+1)] = dd['P'+str(x+1)] \n",
    "    else:\n",
    "      dd['P'+str(x+1)] = dd['P'+str(x+1)].apply(lambda x: 1 if x >= tt1 else 0)"
   ]
  },
  {
   "cell_type": "code",
   "execution_count": 185,
   "metadata": {
    "id": "t1V7uvAxZGPR"
   },
   "outputs": [],
   "source": [
    "dd.to_csv('PLO-CLOmapping.csv', index=False)"
   ]
  },
  {
   "cell_type": "code",
   "execution_count": 186,
   "metadata": {
    "colab": {
     "base_uri": "https://localhost:8080/",
     "height": 206
    },
    "id": "0MmjZwIBo05H",
    "outputId": "f1c5ee61-074f-4df0-aa58-19e4a6fc2566"
   },
   "outputs": [
    {
     "data": {
      "text/html": [
       "<div>\n",
       "<style scoped>\n",
       "    .dataframe tbody tr th:only-of-type {\n",
       "        vertical-align: middle;\n",
       "    }\n",
       "\n",
       "    .dataframe tbody tr th {\n",
       "        vertical-align: top;\n",
       "    }\n",
       "\n",
       "    .dataframe thead th {\n",
       "        text-align: right;\n",
       "    }\n",
       "</style>\n",
       "<table border=\"1\" class=\"dataframe\">\n",
       "  <thead>\n",
       "    <tr style=\"text-align: right;\">\n",
       "      <th></th>\n",
       "      <th>P1</th>\n",
       "      <th>P2</th>\n",
       "      <th>P3</th>\n",
       "      <th>P4</th>\n",
       "      <th>P5</th>\n",
       "      <th>P6</th>\n",
       "    </tr>\n",
       "  </thead>\n",
       "  <tbody>\n",
       "    <tr>\n",
       "      <th>0</th>\n",
       "      <td>1</td>\n",
       "      <td>1</td>\n",
       "      <td>0</td>\n",
       "      <td>0</td>\n",
       "      <td>0</td>\n",
       "      <td>0</td>\n",
       "    </tr>\n",
       "    <tr>\n",
       "      <th>1</th>\n",
       "      <td>1</td>\n",
       "      <td>1</td>\n",
       "      <td>0</td>\n",
       "      <td>1</td>\n",
       "      <td>0</td>\n",
       "      <td>0</td>\n",
       "    </tr>\n",
       "    <tr>\n",
       "      <th>2</th>\n",
       "      <td>1</td>\n",
       "      <td>0</td>\n",
       "      <td>0</td>\n",
       "      <td>0</td>\n",
       "      <td>0</td>\n",
       "      <td>0</td>\n",
       "    </tr>\n",
       "    <tr>\n",
       "      <th>3</th>\n",
       "      <td>0</td>\n",
       "      <td>0</td>\n",
       "      <td>0</td>\n",
       "      <td>1</td>\n",
       "      <td>0</td>\n",
       "      <td>0</td>\n",
       "    </tr>\n",
       "    <tr>\n",
       "      <th>4</th>\n",
       "      <td>0</td>\n",
       "      <td>0</td>\n",
       "      <td>0</td>\n",
       "      <td>0</td>\n",
       "      <td>0</td>\n",
       "      <td>0</td>\n",
       "    </tr>\n",
       "  </tbody>\n",
       "</table>\n",
       "</div>"
      ],
      "text/plain": [
       "   P1  P2  P3  P4  P5  P6\n",
       "0   1   1   0   0   0   0\n",
       "1   1   1   0   1   0   0\n",
       "2   1   0   0   0   0   0\n",
       "3   0   0   0   1   0   0\n",
       "4   0   0   0   0   0   0"
      ]
     },
     "execution_count": 186,
     "metadata": {},
     "output_type": "execute_result"
    }
   ],
   "source": [
    "dd.head()"
   ]
  },
  {
   "cell_type": "code",
   "execution_count": 187,
   "metadata": {
    "colab": {
     "base_uri": "https://localhost:8080/",
     "height": 206
    },
    "id": "nQWRhdsfo1pX",
    "outputId": "c75e374d-17a3-4005-d3d1-49438be48ddf"
   },
   "outputs": [
    {
     "data": {
      "text/html": [
       "<div>\n",
       "<style scoped>\n",
       "    .dataframe tbody tr th:only-of-type {\n",
       "        vertical-align: middle;\n",
       "    }\n",
       "\n",
       "    .dataframe tbody tr th {\n",
       "        vertical-align: top;\n",
       "    }\n",
       "\n",
       "    .dataframe thead th {\n",
       "        text-align: right;\n",
       "    }\n",
       "</style>\n",
       "<table border=\"1\" class=\"dataframe\">\n",
       "  <thead>\n",
       "    <tr style=\"text-align: right;\">\n",
       "      <th></th>\n",
       "      <th>P1</th>\n",
       "      <th>P2</th>\n",
       "      <th>P3</th>\n",
       "      <th>P4</th>\n",
       "      <th>P5</th>\n",
       "      <th>P6</th>\n",
       "    </tr>\n",
       "  </thead>\n",
       "  <tbody>\n",
       "    <tr>\n",
       "      <th>0</th>\n",
       "      <td>0</td>\n",
       "      <td>0</td>\n",
       "      <td>0</td>\n",
       "      <td>0</td>\n",
       "      <td>0</td>\n",
       "      <td>0</td>\n",
       "    </tr>\n",
       "    <tr>\n",
       "      <th>1</th>\n",
       "      <td>0</td>\n",
       "      <td>0</td>\n",
       "      <td>0</td>\n",
       "      <td>0</td>\n",
       "      <td>0</td>\n",
       "      <td>0</td>\n",
       "    </tr>\n",
       "    <tr>\n",
       "      <th>2</th>\n",
       "      <td>0</td>\n",
       "      <td>0</td>\n",
       "      <td>0</td>\n",
       "      <td>0</td>\n",
       "      <td>0</td>\n",
       "      <td>0</td>\n",
       "    </tr>\n",
       "    <tr>\n",
       "      <th>3</th>\n",
       "      <td>0</td>\n",
       "      <td>0</td>\n",
       "      <td>0</td>\n",
       "      <td>1</td>\n",
       "      <td>0</td>\n",
       "      <td>0</td>\n",
       "    </tr>\n",
       "    <tr>\n",
       "      <th>4</th>\n",
       "      <td>0</td>\n",
       "      <td>0</td>\n",
       "      <td>0</td>\n",
       "      <td>0</td>\n",
       "      <td>0</td>\n",
       "      <td>0</td>\n",
       "    </tr>\n",
       "  </tbody>\n",
       "</table>\n",
       "</div>"
      ],
      "text/plain": [
       "   P1  P2  P3  P4  P5  P6\n",
       "0   0   0   0   0   0   0\n",
       "1   0   0   0   0   0   0\n",
       "2   0   0   0   0   0   0\n",
       "3   0   0   0   1   0   0\n",
       "4   0   0   0   0   0   0"
      ]
     },
     "execution_count": 187,
     "metadata": {},
     "output_type": "execute_result"
    }
   ],
   "source": [
    "# human generated output\n",
    "d= pd.read_csv(ORIGINAL_MAPPING)\n",
    "d.head()"
   ]
  },
  {
   "cell_type": "code",
   "execution_count": 188,
   "metadata": {
    "id": "_I05ih9go1s-"
   },
   "outputs": [],
   "source": [
    "df3 = d.copy()"
   ]
  },
  {
   "cell_type": "code",
   "execution_count": 189,
   "metadata": {},
   "outputs": [
    {
     "data": {
      "text/html": [
       "<div>\n",
       "<style scoped>\n",
       "    .dataframe tbody tr th:only-of-type {\n",
       "        vertical-align: middle;\n",
       "    }\n",
       "\n",
       "    .dataframe tbody tr th {\n",
       "        vertical-align: top;\n",
       "    }\n",
       "\n",
       "    .dataframe thead th {\n",
       "        text-align: right;\n",
       "    }\n",
       "</style>\n",
       "<table border=\"1\" class=\"dataframe\">\n",
       "  <thead>\n",
       "    <tr style=\"text-align: right;\">\n",
       "      <th></th>\n",
       "      <th>P1</th>\n",
       "      <th>P2</th>\n",
       "      <th>P3</th>\n",
       "      <th>P4</th>\n",
       "      <th>P5</th>\n",
       "      <th>P6</th>\n",
       "    </tr>\n",
       "  </thead>\n",
       "  <tbody>\n",
       "    <tr>\n",
       "      <th>0</th>\n",
       "      <td>1</td>\n",
       "      <td>1</td>\n",
       "      <td>0</td>\n",
       "      <td>0</td>\n",
       "      <td>0</td>\n",
       "      <td>0</td>\n",
       "    </tr>\n",
       "    <tr>\n",
       "      <th>1</th>\n",
       "      <td>1</td>\n",
       "      <td>1</td>\n",
       "      <td>0</td>\n",
       "      <td>1</td>\n",
       "      <td>0</td>\n",
       "      <td>0</td>\n",
       "    </tr>\n",
       "    <tr>\n",
       "      <th>2</th>\n",
       "      <td>1</td>\n",
       "      <td>0</td>\n",
       "      <td>0</td>\n",
       "      <td>0</td>\n",
       "      <td>0</td>\n",
       "      <td>0</td>\n",
       "    </tr>\n",
       "    <tr>\n",
       "      <th>3</th>\n",
       "      <td>0</td>\n",
       "      <td>0</td>\n",
       "      <td>0</td>\n",
       "      <td>1</td>\n",
       "      <td>0</td>\n",
       "      <td>0</td>\n",
       "    </tr>\n",
       "    <tr>\n",
       "      <th>4</th>\n",
       "      <td>0</td>\n",
       "      <td>0</td>\n",
       "      <td>0</td>\n",
       "      <td>0</td>\n",
       "      <td>0</td>\n",
       "      <td>0</td>\n",
       "    </tr>\n",
       "    <tr>\n",
       "      <th>...</th>\n",
       "      <td>...</td>\n",
       "      <td>...</td>\n",
       "      <td>...</td>\n",
       "      <td>...</td>\n",
       "      <td>...</td>\n",
       "      <td>...</td>\n",
       "    </tr>\n",
       "    <tr>\n",
       "      <th>168</th>\n",
       "      <td>0</td>\n",
       "      <td>0</td>\n",
       "      <td>0</td>\n",
       "      <td>0</td>\n",
       "      <td>0</td>\n",
       "      <td>0</td>\n",
       "    </tr>\n",
       "    <tr>\n",
       "      <th>169</th>\n",
       "      <td>0</td>\n",
       "      <td>0</td>\n",
       "      <td>0</td>\n",
       "      <td>0</td>\n",
       "      <td>0</td>\n",
       "      <td>0</td>\n",
       "    </tr>\n",
       "    <tr>\n",
       "      <th>170</th>\n",
       "      <td>0</td>\n",
       "      <td>0</td>\n",
       "      <td>0</td>\n",
       "      <td>0</td>\n",
       "      <td>0</td>\n",
       "      <td>0</td>\n",
       "    </tr>\n",
       "    <tr>\n",
       "      <th>171</th>\n",
       "      <td>0</td>\n",
       "      <td>1</td>\n",
       "      <td>0</td>\n",
       "      <td>0</td>\n",
       "      <td>0</td>\n",
       "      <td>0</td>\n",
       "    </tr>\n",
       "    <tr>\n",
       "      <th>172</th>\n",
       "      <td>0</td>\n",
       "      <td>0</td>\n",
       "      <td>1</td>\n",
       "      <td>0</td>\n",
       "      <td>1</td>\n",
       "      <td>0</td>\n",
       "    </tr>\n",
       "  </tbody>\n",
       "</table>\n",
       "<p>173 rows × 6 columns</p>\n",
       "</div>"
      ],
      "text/plain": [
       "     P1  P2  P3  P4  P5  P6\n",
       "0     1   1   0   0   0   0\n",
       "1     1   1   0   1   0   0\n",
       "2     1   0   0   0   0   0\n",
       "3     0   0   0   1   0   0\n",
       "4     0   0   0   0   0   0\n",
       "..   ..  ..  ..  ..  ..  ..\n",
       "168   0   0   0   0   0   0\n",
       "169   0   0   0   0   0   0\n",
       "170   0   0   0   0   0   0\n",
       "171   0   1   0   0   0   0\n",
       "172   0   0   1   0   1   0\n",
       "\n",
       "[173 rows x 6 columns]"
      ]
     },
     "execution_count": 189,
     "metadata": {},
     "output_type": "execute_result"
    }
   ],
   "source": [
    "dd"
   ]
  },
  {
   "cell_type": "code",
   "execution_count": 190,
   "metadata": {},
   "outputs": [
    {
     "data": {
      "text/html": [
       "<div>\n",
       "<style scoped>\n",
       "    .dataframe tbody tr th:only-of-type {\n",
       "        vertical-align: middle;\n",
       "    }\n",
       "\n",
       "    .dataframe tbody tr th {\n",
       "        vertical-align: top;\n",
       "    }\n",
       "\n",
       "    .dataframe thead th {\n",
       "        text-align: right;\n",
       "    }\n",
       "</style>\n",
       "<table border=\"1\" class=\"dataframe\">\n",
       "  <thead>\n",
       "    <tr style=\"text-align: right;\">\n",
       "      <th></th>\n",
       "      <th>P1</th>\n",
       "      <th>P2</th>\n",
       "      <th>P3</th>\n",
       "      <th>P4</th>\n",
       "      <th>P5</th>\n",
       "      <th>P6</th>\n",
       "    </tr>\n",
       "  </thead>\n",
       "  <tbody>\n",
       "    <tr>\n",
       "      <th>0</th>\n",
       "      <td>0</td>\n",
       "      <td>0</td>\n",
       "      <td>0</td>\n",
       "      <td>0</td>\n",
       "      <td>0</td>\n",
       "      <td>0</td>\n",
       "    </tr>\n",
       "    <tr>\n",
       "      <th>1</th>\n",
       "      <td>0</td>\n",
       "      <td>0</td>\n",
       "      <td>0</td>\n",
       "      <td>0</td>\n",
       "      <td>0</td>\n",
       "      <td>0</td>\n",
       "    </tr>\n",
       "    <tr>\n",
       "      <th>2</th>\n",
       "      <td>0</td>\n",
       "      <td>0</td>\n",
       "      <td>0</td>\n",
       "      <td>0</td>\n",
       "      <td>0</td>\n",
       "      <td>0</td>\n",
       "    </tr>\n",
       "    <tr>\n",
       "      <th>3</th>\n",
       "      <td>0</td>\n",
       "      <td>0</td>\n",
       "      <td>0</td>\n",
       "      <td>1</td>\n",
       "      <td>0</td>\n",
       "      <td>0</td>\n",
       "    </tr>\n",
       "    <tr>\n",
       "      <th>4</th>\n",
       "      <td>0</td>\n",
       "      <td>0</td>\n",
       "      <td>0</td>\n",
       "      <td>0</td>\n",
       "      <td>0</td>\n",
       "      <td>0</td>\n",
       "    </tr>\n",
       "    <tr>\n",
       "      <th>...</th>\n",
       "      <td>...</td>\n",
       "      <td>...</td>\n",
       "      <td>...</td>\n",
       "      <td>...</td>\n",
       "      <td>...</td>\n",
       "      <td>...</td>\n",
       "    </tr>\n",
       "    <tr>\n",
       "      <th>168</th>\n",
       "      <td>0</td>\n",
       "      <td>0</td>\n",
       "      <td>0</td>\n",
       "      <td>0</td>\n",
       "      <td>0</td>\n",
       "      <td>0</td>\n",
       "    </tr>\n",
       "    <tr>\n",
       "      <th>169</th>\n",
       "      <td>0</td>\n",
       "      <td>0</td>\n",
       "      <td>0</td>\n",
       "      <td>0</td>\n",
       "      <td>0</td>\n",
       "      <td>0</td>\n",
       "    </tr>\n",
       "    <tr>\n",
       "      <th>170</th>\n",
       "      <td>1</td>\n",
       "      <td>0</td>\n",
       "      <td>0</td>\n",
       "      <td>0</td>\n",
       "      <td>0</td>\n",
       "      <td>0</td>\n",
       "    </tr>\n",
       "    <tr>\n",
       "      <th>171</th>\n",
       "      <td>0</td>\n",
       "      <td>1</td>\n",
       "      <td>0</td>\n",
       "      <td>0</td>\n",
       "      <td>0</td>\n",
       "      <td>0</td>\n",
       "    </tr>\n",
       "    <tr>\n",
       "      <th>172</th>\n",
       "      <td>0</td>\n",
       "      <td>0</td>\n",
       "      <td>0</td>\n",
       "      <td>0</td>\n",
       "      <td>1</td>\n",
       "      <td>0</td>\n",
       "    </tr>\n",
       "  </tbody>\n",
       "</table>\n",
       "<p>173 rows × 6 columns</p>\n",
       "</div>"
      ],
      "text/plain": [
       "     P1  P2  P3  P4  P5  P6\n",
       "0     0   0   0   0   0   0\n",
       "1     0   0   0   0   0   0\n",
       "2     0   0   0   0   0   0\n",
       "3     0   0   0   1   0   0\n",
       "4     0   0   0   0   0   0\n",
       "..   ..  ..  ..  ..  ..  ..\n",
       "168   0   0   0   0   0   0\n",
       "169   0   0   0   0   0   0\n",
       "170   1   0   0   0   0   0\n",
       "171   0   1   0   0   0   0\n",
       "172   0   0   0   0   1   0\n",
       "\n",
       "[173 rows x 6 columns]"
      ]
     },
     "execution_count": 190,
     "metadata": {},
     "output_type": "execute_result"
    }
   ],
   "source": [
    "df3"
   ]
  },
  {
   "cell_type": "code",
   "execution_count": 191,
   "metadata": {
    "id": "n6YEK04Ko1we"
   },
   "outputs": [],
   "source": [
    "for x in range(len(df)):\n",
    "  df3['P'+str(x+1)] = np.where(dd['P'+str(x+1)] == df3['P'+str(x+1)], 'True', 'False')"
   ]
  },
  {
   "cell_type": "code",
   "execution_count": 192,
   "metadata": {
    "colab": {
     "base_uri": "https://localhost:8080/",
     "height": 206
    },
    "id": "8FOKLSmFo1zO",
    "outputId": "8383f47b-bd17-4cdb-9bc2-a2cd491cd082"
   },
   "outputs": [
    {
     "data": {
      "text/html": [
       "<div>\n",
       "<style scoped>\n",
       "    .dataframe tbody tr th:only-of-type {\n",
       "        vertical-align: middle;\n",
       "    }\n",
       "\n",
       "    .dataframe tbody tr th {\n",
       "        vertical-align: top;\n",
       "    }\n",
       "\n",
       "    .dataframe thead th {\n",
       "        text-align: right;\n",
       "    }\n",
       "</style>\n",
       "<table border=\"1\" class=\"dataframe\">\n",
       "  <thead>\n",
       "    <tr style=\"text-align: right;\">\n",
       "      <th></th>\n",
       "      <th>P1</th>\n",
       "      <th>P2</th>\n",
       "      <th>P3</th>\n",
       "      <th>P4</th>\n",
       "      <th>P5</th>\n",
       "      <th>P6</th>\n",
       "    </tr>\n",
       "  </thead>\n",
       "  <tbody>\n",
       "    <tr>\n",
       "      <th>0</th>\n",
       "      <td>False</td>\n",
       "      <td>False</td>\n",
       "      <td>True</td>\n",
       "      <td>True</td>\n",
       "      <td>True</td>\n",
       "      <td>True</td>\n",
       "    </tr>\n",
       "    <tr>\n",
       "      <th>1</th>\n",
       "      <td>False</td>\n",
       "      <td>False</td>\n",
       "      <td>True</td>\n",
       "      <td>False</td>\n",
       "      <td>True</td>\n",
       "      <td>True</td>\n",
       "    </tr>\n",
       "    <tr>\n",
       "      <th>2</th>\n",
       "      <td>False</td>\n",
       "      <td>True</td>\n",
       "      <td>True</td>\n",
       "      <td>True</td>\n",
       "      <td>True</td>\n",
       "      <td>True</td>\n",
       "    </tr>\n",
       "    <tr>\n",
       "      <th>3</th>\n",
       "      <td>True</td>\n",
       "      <td>True</td>\n",
       "      <td>True</td>\n",
       "      <td>True</td>\n",
       "      <td>True</td>\n",
       "      <td>True</td>\n",
       "    </tr>\n",
       "    <tr>\n",
       "      <th>4</th>\n",
       "      <td>True</td>\n",
       "      <td>True</td>\n",
       "      <td>True</td>\n",
       "      <td>True</td>\n",
       "      <td>True</td>\n",
       "      <td>True</td>\n",
       "    </tr>\n",
       "  </tbody>\n",
       "</table>\n",
       "</div>"
      ],
      "text/plain": [
       "      P1     P2    P3     P4    P5    P6\n",
       "0  False  False  True   True  True  True\n",
       "1  False  False  True  False  True  True\n",
       "2  False   True  True   True  True  True\n",
       "3   True   True  True   True  True  True\n",
       "4   True   True  True   True  True  True"
      ]
     },
     "execution_count": 192,
     "metadata": {},
     "output_type": "execute_result"
    }
   ],
   "source": [
    "df3.head()"
   ]
  },
  {
   "cell_type": "code",
   "execution_count": 193,
   "metadata": {
    "id": "J9fhnvqeo12P"
   },
   "outputs": [],
   "source": [
    "for x in range(len(df)):\n",
    "  df3['P'+str(x+1)] = df3['P'+str(x+1)].replace('True', 1)\n",
    "  df3['P'+str(x+1)] = df3['P'+str(x+1)].replace('False', 0)"
   ]
  },
  {
   "cell_type": "code",
   "execution_count": 194,
   "metadata": {
    "colab": {
     "base_uri": "https://localhost:8080/",
     "height": 206
    },
    "id": "vML-4JNUo15u",
    "outputId": "c32db157-b88b-43f8-d0cc-d3632146294c"
   },
   "outputs": [
    {
     "data": {
      "text/html": [
       "<div>\n",
       "<style scoped>\n",
       "    .dataframe tbody tr th:only-of-type {\n",
       "        vertical-align: middle;\n",
       "    }\n",
       "\n",
       "    .dataframe tbody tr th {\n",
       "        vertical-align: top;\n",
       "    }\n",
       "\n",
       "    .dataframe thead th {\n",
       "        text-align: right;\n",
       "    }\n",
       "</style>\n",
       "<table border=\"1\" class=\"dataframe\">\n",
       "  <thead>\n",
       "    <tr style=\"text-align: right;\">\n",
       "      <th></th>\n",
       "      <th>P1</th>\n",
       "      <th>P2</th>\n",
       "      <th>P3</th>\n",
       "      <th>P4</th>\n",
       "      <th>P5</th>\n",
       "      <th>P6</th>\n",
       "    </tr>\n",
       "  </thead>\n",
       "  <tbody>\n",
       "    <tr>\n",
       "      <th>0</th>\n",
       "      <td>0</td>\n",
       "      <td>0</td>\n",
       "      <td>1</td>\n",
       "      <td>1</td>\n",
       "      <td>1</td>\n",
       "      <td>1</td>\n",
       "    </tr>\n",
       "    <tr>\n",
       "      <th>1</th>\n",
       "      <td>0</td>\n",
       "      <td>0</td>\n",
       "      <td>1</td>\n",
       "      <td>0</td>\n",
       "      <td>1</td>\n",
       "      <td>1</td>\n",
       "    </tr>\n",
       "    <tr>\n",
       "      <th>2</th>\n",
       "      <td>0</td>\n",
       "      <td>1</td>\n",
       "      <td>1</td>\n",
       "      <td>1</td>\n",
       "      <td>1</td>\n",
       "      <td>1</td>\n",
       "    </tr>\n",
       "    <tr>\n",
       "      <th>3</th>\n",
       "      <td>1</td>\n",
       "      <td>1</td>\n",
       "      <td>1</td>\n",
       "      <td>1</td>\n",
       "      <td>1</td>\n",
       "      <td>1</td>\n",
       "    </tr>\n",
       "    <tr>\n",
       "      <th>4</th>\n",
       "      <td>1</td>\n",
       "      <td>1</td>\n",
       "      <td>1</td>\n",
       "      <td>1</td>\n",
       "      <td>1</td>\n",
       "      <td>1</td>\n",
       "    </tr>\n",
       "  </tbody>\n",
       "</table>\n",
       "</div>"
      ],
      "text/plain": [
       "   P1  P2  P3  P4  P5  P6\n",
       "0   0   0   1   1   1   1\n",
       "1   0   0   1   0   1   1\n",
       "2   0   1   1   1   1   1\n",
       "3   1   1   1   1   1   1\n",
       "4   1   1   1   1   1   1"
      ]
     },
     "execution_count": 194,
     "metadata": {},
     "output_type": "execute_result"
    }
   ],
   "source": [
    "df3.head()"
   ]
  },
  {
   "cell_type": "code",
   "execution_count": 195,
   "metadata": {
    "colab": {
     "base_uri": "https://localhost:8080/",
     "height": 206
    },
    "id": "tANDI1-6pBeH",
    "outputId": "e815045e-ceab-45b5-ef45-7f3db3a7ce34"
   },
   "outputs": [
    {
     "data": {
      "text/html": [
       "<div>\n",
       "<style scoped>\n",
       "    .dataframe tbody tr th:only-of-type {\n",
       "        vertical-align: middle;\n",
       "    }\n",
       "\n",
       "    .dataframe tbody tr th {\n",
       "        vertical-align: top;\n",
       "    }\n",
       "\n",
       "    .dataframe thead th {\n",
       "        text-align: right;\n",
       "    }\n",
       "</style>\n",
       "<table border=\"1\" class=\"dataframe\">\n",
       "  <thead>\n",
       "    <tr style=\"text-align: right;\">\n",
       "      <th></th>\n",
       "      <th>P1</th>\n",
       "      <th>P2</th>\n",
       "      <th>P3</th>\n",
       "      <th>P4</th>\n",
       "      <th>P5</th>\n",
       "      <th>P6</th>\n",
       "      <th>acc</th>\n",
       "    </tr>\n",
       "  </thead>\n",
       "  <tbody>\n",
       "    <tr>\n",
       "      <th>0</th>\n",
       "      <td>0</td>\n",
       "      <td>0</td>\n",
       "      <td>1</td>\n",
       "      <td>1</td>\n",
       "      <td>1</td>\n",
       "      <td>1</td>\n",
       "      <td>0.666667</td>\n",
       "    </tr>\n",
       "    <tr>\n",
       "      <th>1</th>\n",
       "      <td>0</td>\n",
       "      <td>0</td>\n",
       "      <td>1</td>\n",
       "      <td>0</td>\n",
       "      <td>1</td>\n",
       "      <td>1</td>\n",
       "      <td>0.500000</td>\n",
       "    </tr>\n",
       "    <tr>\n",
       "      <th>2</th>\n",
       "      <td>0</td>\n",
       "      <td>1</td>\n",
       "      <td>1</td>\n",
       "      <td>1</td>\n",
       "      <td>1</td>\n",
       "      <td>1</td>\n",
       "      <td>0.833333</td>\n",
       "    </tr>\n",
       "    <tr>\n",
       "      <th>3</th>\n",
       "      <td>1</td>\n",
       "      <td>1</td>\n",
       "      <td>1</td>\n",
       "      <td>1</td>\n",
       "      <td>1</td>\n",
       "      <td>1</td>\n",
       "      <td>1.000000</td>\n",
       "    </tr>\n",
       "    <tr>\n",
       "      <th>4</th>\n",
       "      <td>1</td>\n",
       "      <td>1</td>\n",
       "      <td>1</td>\n",
       "      <td>1</td>\n",
       "      <td>1</td>\n",
       "      <td>1</td>\n",
       "      <td>1.000000</td>\n",
       "    </tr>\n",
       "  </tbody>\n",
       "</table>\n",
       "</div>"
      ],
      "text/plain": [
       "   P1  P2  P3  P4  P5  P6       acc\n",
       "0   0   0   1   1   1   1  0.666667\n",
       "1   0   0   1   0   1   1  0.500000\n",
       "2   0   1   1   1   1   1  0.833333\n",
       "3   1   1   1   1   1   1  1.000000\n",
       "4   1   1   1   1   1   1  1.000000"
      ]
     },
     "execution_count": 195,
     "metadata": {},
     "output_type": "execute_result"
    }
   ],
   "source": [
    "# calculating accuracy of the table\n",
    "df3['acc'] = df3.mean(axis=1)\n",
    "df3.head()"
   ]
  },
  {
   "cell_type": "code",
   "execution_count": 196,
   "metadata": {
    "colab": {
     "base_uri": "https://localhost:8080/",
     "height": 206
    },
    "id": "NSSFJ-0ppBhX",
    "outputId": "70654783-735c-474e-f592-dc5605a085a0"
   },
   "outputs": [
    {
     "data": {
      "text/html": [
       "<div>\n",
       "<style scoped>\n",
       "    .dataframe tbody tr th:only-of-type {\n",
       "        vertical-align: middle;\n",
       "    }\n",
       "\n",
       "    .dataframe tbody tr th {\n",
       "        vertical-align: top;\n",
       "    }\n",
       "\n",
       "    .dataframe thead th {\n",
       "        text-align: right;\n",
       "    }\n",
       "</style>\n",
       "<table border=\"1\" class=\"dataframe\">\n",
       "  <thead>\n",
       "    <tr style=\"text-align: right;\">\n",
       "      <th></th>\n",
       "      <th>0</th>\n",
       "      <th>P1</th>\n",
       "      <th>P2</th>\n",
       "      <th>P3</th>\n",
       "      <th>P4</th>\n",
       "      <th>P5</th>\n",
       "      <th>P6</th>\n",
       "      <th>acc</th>\n",
       "    </tr>\n",
       "  </thead>\n",
       "  <tbody>\n",
       "    <tr>\n",
       "      <th>0</th>\n",
       "      <td>C1</td>\n",
       "      <td>0</td>\n",
       "      <td>0</td>\n",
       "      <td>1</td>\n",
       "      <td>1</td>\n",
       "      <td>1</td>\n",
       "      <td>1</td>\n",
       "      <td>0.666667</td>\n",
       "    </tr>\n",
       "    <tr>\n",
       "      <th>1</th>\n",
       "      <td>C2</td>\n",
       "      <td>0</td>\n",
       "      <td>0</td>\n",
       "      <td>1</td>\n",
       "      <td>0</td>\n",
       "      <td>1</td>\n",
       "      <td>1</td>\n",
       "      <td>0.500000</td>\n",
       "    </tr>\n",
       "    <tr>\n",
       "      <th>2</th>\n",
       "      <td>C3</td>\n",
       "      <td>0</td>\n",
       "      <td>1</td>\n",
       "      <td>1</td>\n",
       "      <td>1</td>\n",
       "      <td>1</td>\n",
       "      <td>1</td>\n",
       "      <td>0.833333</td>\n",
       "    </tr>\n",
       "    <tr>\n",
       "      <th>3</th>\n",
       "      <td>C4</td>\n",
       "      <td>1</td>\n",
       "      <td>1</td>\n",
       "      <td>1</td>\n",
       "      <td>1</td>\n",
       "      <td>1</td>\n",
       "      <td>1</td>\n",
       "      <td>1.000000</td>\n",
       "    </tr>\n",
       "    <tr>\n",
       "      <th>4</th>\n",
       "      <td>C5</td>\n",
       "      <td>1</td>\n",
       "      <td>1</td>\n",
       "      <td>1</td>\n",
       "      <td>1</td>\n",
       "      <td>1</td>\n",
       "      <td>1</td>\n",
       "      <td>1.000000</td>\n",
       "    </tr>\n",
       "  </tbody>\n",
       "</table>\n",
       "</div>"
      ],
      "text/plain": [
       "    0  P1  P2  P3  P4  P5  P6       acc\n",
       "0  C1   0   0   1   1   1   1  0.666667\n",
       "1  C2   0   0   1   0   1   1  0.500000\n",
       "2  C3   0   1   1   1   1   1  0.833333\n",
       "3  C4   1   1   1   1   1   1  1.000000\n",
       "4  C5   1   1   1   1   1   1  1.000000"
      ]
     },
     "execution_count": 196,
     "metadata": {},
     "output_type": "execute_result"
    }
   ],
   "source": [
    "df4 = pd.concat([df1[0], df3], axis=1)\n",
    "df4.head()"
   ]
  },
  {
   "cell_type": "code",
   "execution_count": 197,
   "metadata": {
    "colab": {
     "base_uri": "https://localhost:8080/",
     "height": 237
    },
    "id": "MXK949BmpBkX",
    "outputId": "05f31e23-74d6-4796-bba9-2fb7d04ec44c"
   },
   "outputs": [
    {
     "data": {
      "text/html": [
       "<div>\n",
       "<style scoped>\n",
       "    .dataframe tbody tr th:only-of-type {\n",
       "        vertical-align: middle;\n",
       "    }\n",
       "\n",
       "    .dataframe tbody tr th {\n",
       "        vertical-align: top;\n",
       "    }\n",
       "\n",
       "    .dataframe thead th {\n",
       "        text-align: right;\n",
       "    }\n",
       "</style>\n",
       "<table border=\"1\" class=\"dataframe\">\n",
       "  <thead>\n",
       "    <tr style=\"text-align: right;\">\n",
       "      <th></th>\n",
       "      <th>P1</th>\n",
       "      <th>P2</th>\n",
       "      <th>P3</th>\n",
       "      <th>P4</th>\n",
       "      <th>P5</th>\n",
       "      <th>P6</th>\n",
       "      <th>acc</th>\n",
       "    </tr>\n",
       "    <tr>\n",
       "      <th>0</th>\n",
       "      <th></th>\n",
       "      <th></th>\n",
       "      <th></th>\n",
       "      <th></th>\n",
       "      <th></th>\n",
       "      <th></th>\n",
       "      <th></th>\n",
       "    </tr>\n",
       "  </thead>\n",
       "  <tbody>\n",
       "    <tr>\n",
       "      <th>C1</th>\n",
       "      <td>0</td>\n",
       "      <td>0</td>\n",
       "      <td>1</td>\n",
       "      <td>1</td>\n",
       "      <td>1</td>\n",
       "      <td>1</td>\n",
       "      <td>0.666667</td>\n",
       "    </tr>\n",
       "    <tr>\n",
       "      <th>C2</th>\n",
       "      <td>0</td>\n",
       "      <td>0</td>\n",
       "      <td>1</td>\n",
       "      <td>0</td>\n",
       "      <td>1</td>\n",
       "      <td>1</td>\n",
       "      <td>0.500000</td>\n",
       "    </tr>\n",
       "    <tr>\n",
       "      <th>C3</th>\n",
       "      <td>0</td>\n",
       "      <td>1</td>\n",
       "      <td>1</td>\n",
       "      <td>1</td>\n",
       "      <td>1</td>\n",
       "      <td>1</td>\n",
       "      <td>0.833333</td>\n",
       "    </tr>\n",
       "    <tr>\n",
       "      <th>C4</th>\n",
       "      <td>1</td>\n",
       "      <td>1</td>\n",
       "      <td>1</td>\n",
       "      <td>1</td>\n",
       "      <td>1</td>\n",
       "      <td>1</td>\n",
       "      <td>1.000000</td>\n",
       "    </tr>\n",
       "    <tr>\n",
       "      <th>C5</th>\n",
       "      <td>1</td>\n",
       "      <td>1</td>\n",
       "      <td>1</td>\n",
       "      <td>1</td>\n",
       "      <td>1</td>\n",
       "      <td>1</td>\n",
       "      <td>1.000000</td>\n",
       "    </tr>\n",
       "  </tbody>\n",
       "</table>\n",
       "</div>"
      ],
      "text/plain": [
       "    P1  P2  P3  P4  P5  P6       acc\n",
       "0                                   \n",
       "C1   0   0   1   1   1   1  0.666667\n",
       "C2   0   0   1   0   1   1  0.500000\n",
       "C3   0   1   1   1   1   1  0.833333\n",
       "C4   1   1   1   1   1   1  1.000000\n",
       "C5   1   1   1   1   1   1  1.000000"
      ]
     },
     "execution_count": 197,
     "metadata": {},
     "output_type": "execute_result"
    }
   ],
   "source": [
    "df4.set_index(0, inplace=True)\n",
    "df4.head()"
   ]
  },
  {
   "cell_type": "code",
   "execution_count": 198,
   "metadata": {
    "colab": {
     "base_uri": "https://localhost:8080/"
    },
    "id": "gT1jyiUtpBnf",
    "outputId": "32484ddf-a355-4f14-c865-b22e05e9b9dd"
   },
   "outputs": [
    {
     "data": {
      "text/plain": [
       "0.884393063583815"
      ]
     },
     "execution_count": 198,
     "metadata": {},
     "output_type": "execute_result"
    }
   ],
   "source": [
    "df4['acc'].mean()"
   ]
  },
  {
   "cell_type": "code",
   "execution_count": null,
   "metadata": {},
   "outputs": [],
   "source": []
  },
  {
   "cell_type": "code",
   "execution_count": null,
   "metadata": {},
   "outputs": [],
   "source": []
  },
  {
   "cell_type": "code",
   "execution_count": null,
   "metadata": {},
   "outputs": [],
   "source": []
  },
  {
   "cell_type": "code",
   "execution_count": null,
   "metadata": {},
   "outputs": [],
   "source": []
  },
  {
   "cell_type": "code",
   "execution_count": null,
   "metadata": {},
   "outputs": [],
   "source": []
  }
 ],
 "metadata": {
  "colab": {
   "collapsed_sections": [],
   "name": "CLOPLO_using_(minmax_2)_threshold_value_(pseudocode).ipynb",
   "provenance": []
  },
  "kernelspec": {
   "display_name": "Python 3.9.10 64-bit",
   "language": "python",
   "name": "python3"
  },
  "language_info": {
   "codemirror_mode": {
    "name": "ipython",
    "version": 3
   },
   "file_extension": ".py",
   "mimetype": "text/x-python",
   "name": "python",
   "nbconvert_exporter": "python",
   "pygments_lexer": "ipython3",
   "version": "3.9.10"
  },
  "vscode": {
   "interpreter": {
    "hash": "11938c6bc6919ae2720b4d5011047913343b08a43b18698fd82dedb0d4417594"
   }
  }
 },
 "nbformat": 4,
 "nbformat_minor": 1
}
